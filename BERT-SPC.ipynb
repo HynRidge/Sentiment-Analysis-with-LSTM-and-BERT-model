{
  "cells": [
    {
      "cell_type": "markdown",
      "metadata": {
        "id": "BVIi8VqQmDiX"
      },
      "source": [
        "# **SETUP**"
      ]
    },
    {
      "cell_type": "markdown",
      "metadata": {
        "id": "0fW-S3vnmBR2"
      },
      "source": [
        "### **Imports**"
      ]
    },
    {
      "cell_type": "code",
      "execution_count": 86,
      "metadata": {
        "id": "thkmr3cIgUUf",
        "colab": {
          "base_uri": "https://localhost:8080/"
        },
        "outputId": "2a90ce5e-c1ec-4220-d258-df40dbe5eead"
      },
      "outputs": [
        {
          "output_type": "stream",
          "name": "stdout",
          "text": [
            "Drive already mounted at /content/drive; to attempt to forcibly remount, call drive.mount(\"/content/drive\", force_remount=True).\n"
          ]
        }
      ],
      "source": [
        "from google.colab import drive\n",
        "drive.mount('/content/drive')"
      ]
    },
    {
      "cell_type": "code",
      "execution_count": 87,
      "metadata": {
        "id": "Qu-agNV-qKoU",
        "colab": {
          "base_uri": "https://localhost:8080/"
        },
        "outputId": "de7782ca-0dd9-47f7-ca1c-650948e3b9a1"
      },
      "outputs": [
        {
          "output_type": "stream",
          "name": "stdout",
          "text": [
            "Looking in indexes: https://pypi.org/simple, https://us-python.pkg.dev/colab-wheels/public/simple/\n",
            "Requirement already satisfied: adabound in /usr/local/lib/python3.7/dist-packages (0.0.5)\n",
            "Requirement already satisfied: torch>=0.4.0 in /usr/local/lib/python3.7/dist-packages (from adabound) (1.12.1+cu113)\n",
            "Requirement already satisfied: typing-extensions in /usr/local/lib/python3.7/dist-packages (from torch>=0.4.0->adabound) (4.1.1)\n",
            "Looking in indexes: https://pypi.org/simple, https://us-python.pkg.dev/colab-wheels/public/simple/\n",
            "Requirement already satisfied: pytorch_pretrained_bert in /usr/local/lib/python3.7/dist-packages (0.6.2)\n",
            "Requirement already satisfied: torch>=0.4.1 in /usr/local/lib/python3.7/dist-packages (from pytorch_pretrained_bert) (1.12.1+cu113)\n",
            "Requirement already satisfied: tqdm in /usr/local/lib/python3.7/dist-packages (from pytorch_pretrained_bert) (4.64.1)\n",
            "Requirement already satisfied: boto3 in /usr/local/lib/python3.7/dist-packages (from pytorch_pretrained_bert) (1.26.3)\n",
            "Requirement already satisfied: regex in /usr/local/lib/python3.7/dist-packages (from pytorch_pretrained_bert) (2022.6.2)\n",
            "Requirement already satisfied: requests in /usr/local/lib/python3.7/dist-packages (from pytorch_pretrained_bert) (2.23.0)\n",
            "Requirement already satisfied: numpy in /usr/local/lib/python3.7/dist-packages (from pytorch_pretrained_bert) (1.21.6)\n",
            "Requirement already satisfied: typing-extensions in /usr/local/lib/python3.7/dist-packages (from torch>=0.4.1->pytorch_pretrained_bert) (4.1.1)\n",
            "Requirement already satisfied: botocore<1.30.0,>=1.29.3 in /usr/local/lib/python3.7/dist-packages (from boto3->pytorch_pretrained_bert) (1.29.3)\n",
            "Requirement already satisfied: jmespath<2.0.0,>=0.7.1 in /usr/local/lib/python3.7/dist-packages (from boto3->pytorch_pretrained_bert) (1.0.1)\n",
            "Requirement already satisfied: s3transfer<0.7.0,>=0.6.0 in /usr/local/lib/python3.7/dist-packages (from boto3->pytorch_pretrained_bert) (0.6.0)\n",
            "Requirement already satisfied: python-dateutil<3.0.0,>=2.1 in /usr/local/lib/python3.7/dist-packages (from botocore<1.30.0,>=1.29.3->boto3->pytorch_pretrained_bert) (2.8.2)\n",
            "Requirement already satisfied: urllib3<1.27,>=1.25.4 in /usr/local/lib/python3.7/dist-packages (from botocore<1.30.0,>=1.29.3->boto3->pytorch_pretrained_bert) (1.25.11)\n",
            "Requirement already satisfied: six>=1.5 in /usr/local/lib/python3.7/dist-packages (from python-dateutil<3.0.0,>=2.1->botocore<1.30.0,>=1.29.3->boto3->pytorch_pretrained_bert) (1.15.0)\n",
            "Requirement already satisfied: certifi>=2017.4.17 in /usr/local/lib/python3.7/dist-packages (from requests->pytorch_pretrained_bert) (2022.9.24)\n",
            "Requirement already satisfied: idna<3,>=2.5 in /usr/local/lib/python3.7/dist-packages (from requests->pytorch_pretrained_bert) (2.10)\n",
            "Requirement already satisfied: chardet<4,>=3.0.2 in /usr/local/lib/python3.7/dist-packages (from requests->pytorch_pretrained_bert) (3.0.4)\n"
          ]
        }
      ],
      "source": [
        "!pip install adabound\n",
        "!pip install pytorch_pretrained_bert"
      ]
    },
    {
      "cell_type": "code",
      "execution_count": 88,
      "metadata": {
        "id": "JOY16t1YdL29"
      },
      "outputs": [],
      "source": [
        "import os\n",
        "import numpy as np\n",
        "import pickle\n",
        "import yaml\n",
        "import random\n",
        "import spacy\n",
        "import re\n",
        "import json\n",
        "import operator\n",
        "import time\n",
        "import adabound"
      ]
    },
    {
      "cell_type": "code",
      "execution_count": 89,
      "metadata": {
        "id": "LMn5SgbMnHLD"
      },
      "outputs": [],
      "source": [
        "from xml.etree.ElementTree import parse\n",
        "from pytorch_pretrained_bert import BertModel, BertTokenizer"
      ]
    },
    {
      "cell_type": "code",
      "execution_count": 90,
      "metadata": {
        "id": "eAb1kCdVmeJc"
      },
      "outputs": [],
      "source": [
        "import torch\n",
        "import torch.nn.functional as F\n",
        "from torch import nn\n",
        "from torch import optim\n",
        "from torch.nn import init\n",
        "from torch.utils.data import DataLoader\n",
        "from torch.utils.data import Dataset\n",
        "\n",
        "from sklearn.metrics import confusion_matrix, f1_score, precision_score, recall_score\n",
        "\n",
        "import matplotlib.pyplot as plt\n",
        "import seaborn as sn\n",
        "import pandas as pd"
      ]
    },
    {
      "cell_type": "markdown",
      "metadata": {
        "id": "ZFizI8b4lx7n"
      },
      "source": [
        "### **Constants**"
      ]
    },
    {
      "cell_type": "code",
      "execution_count": 91,
      "metadata": {
        "id": "vh0WA3QwliOE"
      },
      "outputs": [],
      "source": [
        "PAD = '<pad>'\n",
        "UNK = '<unk>'\n",
        "ASPECT = '<aspect>'\n",
        "\n",
        "PAD_INDEX = 0\n",
        "UNK_INDEX = 1\n",
        "ASPECT_INDEX = 2\n",
        "\n",
        "INF = 1e9"
      ]
    },
    {
      "cell_type": "markdown",
      "metadata": {
        "id": "F5VR_mYQnW6Y"
      },
      "source": [
        "# **CLASSES**"
      ]
    },
    {
      "cell_type": "markdown",
      "metadata": {
        "id": "SeyPMH8aoLds"
      },
      "source": [
        "### **Data**"
      ]
    },
    {
      "cell_type": "code",
      "execution_count": 92,
      "metadata": {
        "id": "4ClXbYaUdL3O"
      },
      "outputs": [],
      "source": [
        "class ABSADataset(Dataset):\n",
        "\n",
        "    def __init__(self, path, input_list):\n",
        "        super(ABSADataset, self).__init__()\n",
        "        data = np.load(path)\n",
        "        self.data = {}\n",
        "        for key, value in data.items():\n",
        "            self.data[key] = torch.tensor(value).long()\n",
        "        self.len = self.data['label'].size(0)\n",
        "        self.input_list = input_list\n",
        "\n",
        "    def __getitem__(self, index):\n",
        "        return_value = []\n",
        "        for input in self.input_list:\n",
        "            return_value.append(self.data[input][index])\n",
        "        return_value.append(self.data['label'][index])\n",
        "        return return_value\n",
        "\n",
        "    def __len__(self):\n",
        "        return self.len"
      ]
    },
    {
      "cell_type": "code",
      "execution_count": 93,
      "metadata": {
        "id": "TI3e2ErfdL2_"
      },
      "outputs": [],
      "source": [
        "class Vocab(object):\n",
        "\n",
        "    def __init__(self):\n",
        "        self._count_dict = dict()\n",
        "        self._predefined_list = [PAD, UNK, ASPECT]\n",
        "\n",
        "    def add(self, word):\n",
        "        if word in self._count_dict:\n",
        "            self._count_dict[word] += 1\n",
        "        else:\n",
        "            self._count_dict[word] = 1\n",
        "\n",
        "    def add_list(self, words):\n",
        "        for word in words:\n",
        "            self.add(word)\n",
        "\n",
        "    def get_vocab(self, max_size=None, min_freq=0):\n",
        "        # \n",
        "        sorted_words = sorted(self._count_dict.items(), key=operator.itemgetter(1), reverse=True)\n",
        "        word2index = {}\n",
        "        for word in self._predefined_list:\n",
        "            word2index[word] = len(word2index)\n",
        "        for word, freq in sorted_words:\n",
        "            if word in word2index:\n",
        "                continue\n",
        "            if (max_size is not None and len(word2index) >= max_size) or freq < min_freq:\n",
        "                word2index[word] = word2index[UNK]\n",
        "            else:\n",
        "                word2index[word] = len(word2index)\n",
        "        index2word = {}\n",
        "        index2word[word2index[UNK]] = UNK\n",
        "        for word, index in word2index.items():\n",
        "            if index == word2index[UNK]:\n",
        "                continue\n",
        "            else:\n",
        "                index2word[index] = word\n",
        "        return word2index, index2word"
      ]
    },
    {
      "cell_type": "markdown",
      "metadata": {
        "id": "p6GHzgVToQtT"
      },
      "source": [
        "### **Model**"
      ]
    },
    {
      "cell_type": "code",
      "execution_count": 96,
      "metadata": {
        "id": "kD2EgGuhdL3N"
      },
      "outputs": [],
      "source": [
        "class Bert(nn.Module):\n",
        "\n",
        "    def __init__(self, bert, bert_size, dropout, num_categories):\n",
        "        super(Bert, self).__init__()\n",
        "        self.bert = bert\n",
        "        self.bert_size = bert_size\n",
        "        # self.aspect_transform = nn.Sequential(\n",
        "        #     nn.Linear(bert_size, capsule_size),\n",
        "        #     nn.Dropout(dropout)\n",
        "        # )\n",
        "        # self.sentence_transform = nn.Sequential(\n",
        "        #     nn.Linear(bert_size, capsule_size),\n",
        "        #     nn.Dropout(dropout)\n",
        "        # )\n",
        "        \n",
        "        self.dropout = nn.Dropout(dropout)\n",
        "        self.dense = nn.Linear(bert_size, num_categories)\n",
        "\n",
        "\n",
        "    def forward(self, bert_token, bert_segment):\n",
        "        # BERT encoding\n",
        "        _, pooled_layout = self.bert(bert_token, bert_segment, output_all_encoded_layers=False)\n",
        "        pooled_layout = self.dropout(pooled_layout)\n",
        "        logits = self.dense(pooled_layout)\n",
        "        return logits"
      ]
    },
    {
      "cell_type": "markdown",
      "metadata": {
        "id": "R0zUocDDn_J8"
      },
      "source": [
        "# **FUNCTIONS**"
      ]
    },
    {
      "cell_type": "code",
      "execution_count": 97,
      "metadata": {
        "id": "Qibh7tV9dL3B"
      },
      "outputs": [],
      "source": [
        "def parse_sentence_term(path, lowercase=False):\n",
        "    # parse each sentence into a tree by built-in xml function\n",
        "    tree = parse(path)\n",
        "    \n",
        "    # from here down parse each sentence to \n",
        "    # '[text], [term], [polarity], [from], [to]' with '_split_' inbetween,\n",
        "    # then append to data list. \n",
        "    sentences = tree.getroot()\n",
        "    data = []\n",
        "    split_char = '__split__'\n",
        "    for sentence in sentences:\n",
        "        text = sentence.find('text')\n",
        "        if text is None:\n",
        "            continue\n",
        "        text = text.text\n",
        "        if lowercase:\n",
        "            text = text.lower()\n",
        "        aspectTerms = sentence.find('aspectTerms')\n",
        "        if aspectTerms is None:\n",
        "            continue\n",
        "        for aspectTerm in aspectTerms:\n",
        "            term = aspectTerm.get('term')\n",
        "            if lowercase:\n",
        "                term = term.lower()\n",
        "            polarity = aspectTerm.get('polarity')\n",
        "            start = aspectTerm.get('from')\n",
        "            end = aspectTerm.get('to')\n",
        "            piece = text + split_char + term + split_char + polarity + split_char + start + split_char + end\n",
        "            data.append(piece)\n",
        "    return data"
      ]
    },
    {
      "cell_type": "code",
      "execution_count": 98,
      "metadata": {
        "id": "yXdUqmP3dL3D"
      },
      "outputs": [],
      "source": [
        "def category_filter(data, remove_list):\n",
        "    # remove conflicts, only allows polarity 'positive', 'neutral', 'negative'\n",
        "    remove_set = set(remove_list)\n",
        "    filtered_data = []\n",
        "    for text in data:\n",
        "        if not text.split('__split__')[2] in remove_set:\n",
        "            filtered_data.append(text)\n",
        "    return filtered_data"
      ]
    },
    {
      "cell_type": "code",
      "execution_count": 99,
      "metadata": {
        "id": "DndCoFiRnduh"
      },
      "outputs": [],
      "source": [
        "def check(x):\n",
        "    return len(x) >= 1 and not x.isspace()"
      ]
    },
    {
      "cell_type": "code",
      "execution_count": 100,
      "metadata": {
        "id": "nxke1zzhne82"
      },
      "outputs": [],
      "source": [
        "def tokenizer(text):\n",
        "    tokens = [tok.text for tok in spacy_en.tokenizer(url.sub('@URL@', text))]\n",
        "    return list(filter(check, tokens))"
      ]
    },
    {
      "cell_type": "code",
      "execution_count": 101,
      "metadata": {
        "id": "yNavxTnmngNP"
      },
      "outputs": [],
      "source": [
        "def build_vocab(data, max_size, min_freq):\n",
        "    if max_size == 'None':\n",
        "        max_size = None\n",
        "    vocab = Vocab()\n",
        "    for piece in data:\n",
        "        text = piece.split('__split__')[0]\n",
        "        text = tokenizer(text)\n",
        "        vocab.add_list(text)\n",
        "    return vocab.get_vocab(max_size=max_size, min_freq=min_freq)"
      ]
    },
    {
      "cell_type": "code",
      "execution_count": 102,
      "metadata": {
        "id": "JIdJFNQvdL3F"
      },
      "outputs": [],
      "source": [
        "def save_term_data(data, word2index, path):\n",
        "    dirname = os.path.dirname(path)\n",
        "    if not os.path.exists(dirname):\n",
        "        os.makedirs(dirname)\n",
        "    sentence = []\n",
        "    aspect = []\n",
        "    label = []\n",
        "    context = []\n",
        "    bert_token = []\n",
        "    bert_segment = []\n",
        "    td_left = []\n",
        "    td_right = []\n",
        "    f = lambda x: word2index[x] if x in word2index else word2index[UNK]\n",
        "    g = lambda x: list(map(f, tokenizer(x)))\n",
        "    d = {\n",
        "        'negative': 0,\n",
        "        'neutral': 1,\n",
        "        'positive': 2,\n",
        "    }\n",
        "    for piece in data:\n",
        "        text, term, polarity, start, end = piece.split('__split__')\n",
        "        start, end = int(start), int(end)\n",
        "        assert text[start: end] == term\n",
        "        # sentence appends tokenizer of text\n",
        "        sentence.append(g(text))\n",
        "        # aspect appends tokenizer of term\n",
        "        aspect.append(g(term))\n",
        "        # label appends index of polarity (based on d)\n",
        "        label.append(d[polarity])\n",
        "        # left extracts text to left of term\n",
        "        left_part = g(text[:start])\n",
        "        # right extracts text to right of term\n",
        "        right_part = g(text[end:])\n",
        "        # masking the term, show only text without term\n",
        "        context.append(left_part + [ASPECT_INDEX] + right_part)\n",
        "        bert_sentence = bert_tokenizer.tokenize(text)\n",
        "        bert_aspect = bert_tokenizer.tokenize(term)\n",
        "        # appends bert_text, bert_sentence, bert_aspect to token\n",
        "        bert_token.append(bert_tokenizer.convert_tokens_to_ids(['[CLS]'] + bert_sentence + ['[SEP]'] + bert_aspect + ['[SEP]']))\n",
        "        bert_segment.append([0] * (len(bert_sentence) + 2) + [1] * (len(bert_aspect) + 1))\n",
        "        # td left appends the text from 0 to end of term\n",
        "        td_left.append(g(text[:end]))\n",
        "        # td right appends the text from start of term to end of sentence\n",
        "        td_right.append(g(text[start:])[::-1])\n",
        "        assert len(bert_token[-1]) == len(bert_segment[-1])\n",
        "\n",
        "    max_length = lambda x: max([len(y) for y in x])\n",
        "    sentence_max_len = max_length(sentence)\n",
        "    aspect_max_len = max_length(aspect)\n",
        "    context_max_len = max_length(context)\n",
        "    bert_max_len = max_length(bert_token)\n",
        "    td_left_max_len = max_length(td_left)\n",
        "    td_right_max_len = max_length(td_right)\n",
        "    num = len(data)\n",
        "    for i in range(num):\n",
        "        # pads each list\n",
        "        sentence[i].extend([0] * (sentence_max_len - len(sentence[i])))\n",
        "        aspect[i].extend([0] * (aspect_max_len - len(aspect[i])))\n",
        "        context[i].extend([0] * (context_max_len - len(context[i])))\n",
        "        bert_token[i].extend([0] * (bert_max_len - len(bert_token[i])))\n",
        "        bert_segment[i].extend([0] * (bert_max_len - len(bert_segment[i])))\n",
        "        td_left[i].extend([0] * (td_left_max_len - len(td_left[i])))\n",
        "        td_right[i].extend([0] * (td_right_max_len - len(td_right[i])))\n",
        "    sentence = np.asarray(sentence, dtype=np.int32)\n",
        "    aspect = np.asarray(aspect, dtype=np.int32)\n",
        "    label = np.asarray(label, dtype=np.int32)\n",
        "    context = np.asarray(context, dtype=np.int32)\n",
        "    bert_token = np.asarray(bert_token, dtype=np.int32)\n",
        "    bert_segment = np.asarray(bert_segment, dtype=np.int32)\n",
        "    td_left = np.asarray(td_left, dtype=np.int32)\n",
        "    td_right = np.asarray(td_right, dtype=np.int32)\n",
        "    np.savez(path, sentence=sentence, aspect=aspect, label=label, context=context, bert_token=bert_token, bert_segment=bert_segment,\n",
        "             td_left=td_left, td_right=td_right)"
      ]
    },
    {
      "cell_type": "code",
      "execution_count": 104,
      "metadata": {
        "id": "l_9sUTDrdL3J"
      },
      "outputs": [],
      "source": [
        "def analyze_term(data):\n",
        "    num = len(data)\n",
        "    sentence_lens = []\n",
        "    aspect_lens = []\n",
        "    log = {'total': num}\n",
        "    for piece in data:\n",
        "        text, term, polarity, _, _ = piece.split('__split__')\n",
        "        sentence_lens.append(len(tokenizer(text)))\n",
        "        aspect_lens.append(len(tokenizer(term)))\n",
        "        if not polarity in log:\n",
        "            log[polarity] = 0\n",
        "        log[polarity] += 1\n",
        "    log['sentence_max_len'] = max(sentence_lens)\n",
        "    log['sentence_avg_len'] = sum(sentence_lens) / len(sentence_lens)\n",
        "    log['aspect_max_len'] = max(aspect_lens)\n",
        "    log['aspect_avg_len'] = sum(aspect_lens) / len(aspect_lens)\n",
        "    return log"
      ]
    },
    {
      "cell_type": "code",
      "execution_count": 107,
      "metadata": {
        "id": "OpOafbYKdL3P"
      },
      "outputs": [],
      "source": [
        "def make_model():\n",
        "    base_path = os.path.join(config['base_path'])\n",
        "    log_path = os.path.join(base_path, 'log/log.yml')\n",
        "    log = yaml.safe_load(open(log_path))\n",
        "    bert = BertModel.from_pretrained('bert-base-uncased')\n",
        "    model = Bert(\n",
        "        bert=bert,\n",
        "        bert_size=config2['bert_size'],\n",
        "        dropout=config2['dropout'],\n",
        "        num_categories=log['num_categories']\n",
        "    )\n",
        "    return model"
      ]
    },
    {
      "cell_type": "code",
      "execution_count": 108,
      "metadata": {
        "id": "v6MxubyGdL3P"
      },
      "outputs": [],
      "source": [
        "def make_term_data():\n",
        "    base_path = config['base_path']\n",
        "    train_path = os.path.join(base_path, 'processed/train.npz')\n",
        "    val_path = os.path.join(base_path, 'processed/val.npz')\n",
        "    train_data = ABSADataset(train_path, ['bert_token', 'bert_segment'])\n",
        "    val_data = ABSADataset(val_path, ['bert_token', 'bert_segment'])\n",
        "    train_loader = DataLoader(\n",
        "        dataset=train_data,\n",
        "        batch_size=config2['batch_size'],\n",
        "        shuffle=True,\n",
        "        pin_memory=True\n",
        "    )\n",
        "    val_loader = DataLoader(\n",
        "        dataset=val_data,\n",
        "        batch_size=config2['batch_size'],\n",
        "        shuffle=False,\n",
        "        pin_memory=True\n",
        "    )\n",
        "    return train_loader, val_loader"
      ]
    },
    {
      "cell_type": "code",
      "source": [
        "def make_term_test_data(config):\n",
        "    base_path = config['base_path']\n",
        "    test_path = os.path.join(base_path, 'processed/test.npz')\n",
        "    test_data = ABSADataset(test_path, ['bert_token', 'bert_segment'])\n",
        "    test_loader = DataLoader(\n",
        "        dataset=test_data,\n",
        "        batch_size=config['batch_size'],\n",
        "        shuffle=False,\n",
        "        pin_memory=True\n",
        "    )\n",
        "    return test_loader"
      ],
      "metadata": {
        "id": "My00r6pHROw2"
      },
      "execution_count": 109,
      "outputs": []
    },
    {
      "cell_type": "code",
      "execution_count": 110,
      "metadata": {
        "id": "pMlnUPFBdL3Q"
      },
      "outputs": [],
      "source": [
        "def make_optimizer(model):\n",
        "    lr = config2['learning_rate']\n",
        "    weight_decay = config2['weight_decay']\n",
        "    opt = {\n",
        "        'sgd': optim.SGD,\n",
        "        'adadelta': optim.Adadelta,\n",
        "        'adam': optim.Adam,\n",
        "        'adamax': optim.Adamax,\n",
        "        'adagrad': optim.Adagrad,\n",
        "        'asgd': optim.ASGD,\n",
        "        'rmsprop': optim.RMSprop,\n",
        "        'adabound': adabound.AdaBound\n",
        "    }\n",
        "    if 'momentum' in config:\n",
        "        optimizer = opt[config2['optimizer']](model.parameters(), lr=lr, weight_decay=weight_decay, momentum=config2['momentum'])\n",
        "    else:\n",
        "        optimizer = opt[config2['optimizer']](model.parameters(), lr=lr, weight_decay=weight_decay)\n",
        "    return optimizer"
      ]
    },
    {
      "cell_type": "code",
      "execution_count": 112,
      "metadata": {
        "id": "fhYTiEFedL3U"
      },
      "outputs": [],
      "source": [
        "def preprocess():\n",
        "    # parse data into list\n",
        "    train_data = parse_sentence_term(config['raw_train_path'], lowercase=config['lowercase'])\n",
        "    val_data = parse_sentence_term(config['raw_val_path'], lowercase=config['lowercase'])\n",
        "    test_data = parse_sentence_term(config['raw_test_path'], lowercase=config['lowercase'])\n",
        "    # filter conflicts\n",
        "    remove_list = ['conflict']\n",
        "    train_data = category_filter(train_data, remove_list)\n",
        "    val_data = category_filter(val_data, remove_list)\n",
        "    test_data = category_filter(test_data, remove_list)\n",
        "    # get the word2index and index2word of the parsed data\n",
        "    word2index, index2word = build_vocab(train_data, max_size=config['max_vocab_size'], min_freq=config['min_vocab_freq'])\n",
        "\n",
        "    # create path for the processed data\n",
        "    if not os.path.exists(os.path.join(config[\"base_path\"], 'processed')):\n",
        "        os.makedirs(os.path.join(config[\"base_path\"], 'processed'))\n",
        "    \n",
        "          \n",
        "    save_term_data(train_data, word2index, os.path.join(config[\"base_path\"], 'processed/train.npz'))\n",
        "    save_term_data(val_data, word2index, os.path.join(config[\"base_path\"], 'processed/val.npz'))\n",
        "    save_term_data(test_data, word2index, os.path.join(config[\"base_path\"], 'processed/test.npz'))\n",
        "\n",
        "    with open(os.path.join(config[\"base_path\"], 'processed/word2index.pickle'), 'wb') as handle:\n",
        "        pickle.dump(word2index, handle)\n",
        "    with open(os.path.join(config[\"base_path\"], 'processed/index2word.pickle'), 'wb') as handle:\n",
        "        pickle.dump(index2word, handle)\n",
        "    analyze = analyze_term\n",
        "    log = {\n",
        "        'vocab_size': len(index2word),\n",
        "        'oov_size': len(word2index) - len(index2word),\n",
        "        'train_data': analyze(train_data),\n",
        "        'val_data': analyze(val_data),\n",
        "        'test_data': analyze(test_data),\n",
        "        'num_categories': 3\n",
        "    }\n",
        "\n",
        "    if not os.path.exists(os.path.join(config[\"base_path\"], 'log')):\n",
        "        os.makedirs(os.path.join(config[\"base_path\"], 'log'))\n",
        "    with open(os.path.join(config[\"base_path\"], 'log/log.yml'), 'w') as handle:\n",
        "        yaml.safe_dump(log, handle, encoding='utf-8', allow_unicode=True, default_flow_style=False)"
      ]
    },
    {
      "cell_type": "code",
      "execution_count": 115,
      "metadata": {
        "id": "BQS3yFtDdL3Q"
      },
      "outputs": [],
      "source": [
        "def train():\n",
        "    train_loader, val_loader = make_term_data()\n",
        "    global model\n",
        "    model = model.cuda()\n",
        "    base_path = config['base_path']\n",
        "    model_path = os.path.join(base_path, 'bert_models/%s.pth' % \"bert_capsnet\")\n",
        "    if not os.path.exists(os.path.dirname(model_path)):\n",
        "        os.makedirs(os.path.dirname(model_path))\n",
        "    with open(os.path.join(base_path, 'processed/index2word.pickle'), 'rb') as handle:\n",
        "        index2word = pickle.load(handle)\n",
        "    criterion = nn.CrossEntropyLoss()\n",
        "    optimizer = make_optimizer(model)\n",
        "    max_val_accuracy = 0\n",
        "    min_val_loss = 100\n",
        "    global_step = 0\n",
        "    \n",
        "    train_losses = []\n",
        "    val_losses = []\n",
        "    train_accs = []\n",
        "    val_accs = []\n",
        "\n",
        "    for epoch in range(config2['num_epoches']):\n",
        "        total_loss = 0\n",
        "        total_samples = 0\n",
        "        correct_samples = 0\n",
        "        start = time.time()\n",
        "        train_loss = 0\n",
        "        val_loss = 0\n",
        "        train_accuracy = 0\n",
        "        val_accuracy = 0\n",
        "        for i, data in enumerate(train_loader):\n",
        "            global_step += 1\n",
        "            model.train()\n",
        "            input0, input1, label = data\n",
        "            input0, input1, label = input0.cuda(), input1.cuda(), label.cuda()\n",
        "            optimizer.zero_grad()\n",
        "            logit = model(input0, input1)\n",
        "            loss = criterion(logit, label)\n",
        "            batch_size = input0.size(0)\n",
        "            total_loss += batch_size * loss.item()\n",
        "            total_samples += batch_size\n",
        "            pred = logit.argmax(dim=1)\n",
        "            correct_samples += (label == pred).long().sum().item()\n",
        "            loss.backward()\n",
        "            torch.nn.utils.clip_grad_norm_(model.parameters(), 5.0)\n",
        "            optimizer.step()\n",
        "            if i % 10 == 0 and i > 0:\n",
        "                train_loss = total_loss / total_samples\n",
        "                train_accuracy = correct_samples / total_samples\n",
        "                total_loss = 0\n",
        "                total_samples = 0\n",
        "                correct_samples = 0\n",
        "                val_accuracy, val_loss = eval(model, val_loader, criterion)\n",
        "                print('[epoch %2d] [step %3d] train_loss: %.4f train_acc: %.4f val_loss: %.4f val_acc: %.4f'\n",
        "                      % (epoch, i, train_loss, train_accuracy, val_loss, val_accuracy))\n",
        "                if val_accuracy > max_val_accuracy:\n",
        "                    max_val_accuracy = val_accuracy\n",
        "                    # torch.save(aspect_term_model.state_dict(), model_path)\n",
        "                if val_loss < min_val_loss:\n",
        "                    min_val_loss = val_loss\n",
        "                    if epoch > 0:\n",
        "                        torch.save(model.state_dict(), model_path)\n",
        "        #Append train_loss and val_loss\n",
        "        train_losses.append(train_loss)\n",
        "        val_losses.append(val_loss)\n",
        "        train_accs.append(train_accuracy)\n",
        "        val_accs.append(val_accuracy)\n",
        "        end = time.time()\n",
        "        print('time: %.4fs' % (end - start))\n",
        "    print('max_val_accuracy:', max_val_accuracy)\n",
        "    return train_accs, train_losses, val_accs, val_losses"
      ]
    },
    {
      "cell_type": "code",
      "source": [
        "def test():\n",
        "    model = make_model()\n",
        "    model = model.cuda()\n",
        "    model_path = os.path.join(config['base_path'], 'bert_models/%s.pth' % config['mode'])\n",
        "    model.load_state_dict(torch.load(model_path))\n",
        "    \n",
        "    test_loader = make_term_test_data(config)\n",
        "    test_accuracy, test_labels, predicted_labels = eval(model, test_loader)\n",
        "    print('test:\\taccuracy: %.4f' % (test_accuracy))\n",
        "    return test_labels, predicted_labels"
      ],
      "metadata": {
        "id": "TjAknl6zQLUi"
      },
      "execution_count": 114,
      "outputs": []
    },
    {
      "cell_type": "code",
      "execution_count": 113,
      "metadata": {
        "id": "IdlmWNmEomRD"
      },
      "outputs": [],
      "source": [
        "def eval(model, data_loader, criterion=None):\n",
        "    total_samples = 0\n",
        "    correct_samples = 0\n",
        "    total_loss = 0\n",
        "    model.eval()\n",
        "    test_labels = []\n",
        "    predicted_labels = []\n",
        "    with torch.no_grad():\n",
        "        for data in data_loader:\n",
        "            input0, input1, label = data\n",
        "            test_labels.append(label)\n",
        "            input0, input1, label = input0.cuda(), input1.cuda(), label.cuda()\n",
        "            logit = model(input0, input1)\n",
        "            loss = criterion(logit, label).item() if criterion is not None else 0\n",
        "            total_samples += input0.size(0)\n",
        "            pred = logit.argmax(dim=1)\n",
        "            predicted_labels.append(pred)\n",
        "            correct_samples += (label == pred).long().sum().item()\n",
        "            total_loss += loss * input0.size(0)\n",
        "    accuracy = correct_samples / total_samples\n",
        "    avg_loss = total_loss / total_samples\n",
        "    if criterion is not None:\n",
        "        return accuracy, avg_loss\n",
        "    else:\n",
        "        return accuracy, test_labels, predicted_labels"
      ]
    },
    {
      "cell_type": "code",
      "source": [
        "def convertTensorToList(tensors):\n",
        "    ls = []\n",
        "    for row in tensors:\n",
        "        for ele in row:\n",
        "            ls.append(ele.item())\n",
        "\n",
        "    return ls"
      ],
      "metadata": {
        "id": "_IQDzF92FPV-"
      },
      "execution_count": 117,
      "outputs": []
    },
    {
      "cell_type": "markdown",
      "metadata": {
        "id": "S4rZNufDpQNi"
      },
      "source": [
        "# **MAIN**"
      ]
    },
    {
      "cell_type": "markdown",
      "metadata": {
        "id": "as9UA-0NtyNS"
      },
      "source": [
        "### **Configuration**"
      ]
    },
    {
      "cell_type": "code",
      "execution_count": 118,
      "metadata": {
        "id": "Ed8jTmFBnjaQ"
      },
      "outputs": [],
      "source": [
        "url = re.compile('(<url>.*</url>)')\n",
        "spacy_en = spacy.load('en_core_web_sm')\n",
        "bert_tokenizer = BertTokenizer.from_pretrained('bert-base-uncased')"
      ]
    },
    {
      "cell_type": "code",
      "execution_count": 119,
      "metadata": {
        "id": "conAL_dUdL3R"
      },
      "outputs": [],
      "source": [
        "config = {\n",
        "    \"base_path\": \"drive/MyDrive/CS4248/MAMS-ATSA\",\n",
        "    \"mode\": \"bert_capsnet\",\n",
        "    \"glove_path\": \"drive/MyDrive/CS4248/glove.42B.300d.txt\",\n",
        "    \"sentiment_path\": \"drive/MyDrive/CS4248/sentiment_dict.json\",\n",
        "    \"max_vocab_size\": None,\n",
        "    \"min_vocab_freq\": 0,\n",
        "    \"lowercase\": True,\n",
        "    'bert_size': 768,\n",
        "    'capsule_size': 300,\n",
        "    'dropout': 0.1,\n",
        "    'optimizer': 'adam',\n",
        "    'batch_size': 32,\n",
        "    'learning_rate': 0.00002,\n",
        "    'weight_decay': 0,\n",
        "    'num_epoches': 5,\n",
        "    'gpu': 0\n",
        "    }\n",
        "\n",
        "config[\"raw_train_path\"] = os.path.join(config[\"base_path\"], 'raw/train.xml')\n",
        "config[\"raw_val_path\"] = os.path.join(config[\"base_path\"], 'raw/val.xml')\n",
        "config[\"raw_test_path\"] = os.path.join(config['base_path'], 'raw/test.xml')"
      ]
    },
    {
      "cell_type": "code",
      "execution_count": 120,
      "metadata": {
        "id": "g0XX1iK3owFD"
      },
      "outputs": [],
      "source": [
        "config2 = {\n",
        "    'bert_size': 768,\n",
        "    'capsule_size': 300,\n",
        "    'dropout': 0.1,\n",
        "    'optimizer': 'adam',\n",
        "    'batch_size': 32,\n",
        "    'learning_rate': 0.00002,\n",
        "    'weight_decay': 0,\n",
        "    'num_epoches': 5,\n",
        "    'gpu': 0\n",
        "    }"
      ]
    },
    {
      "cell_type": "markdown",
      "metadata": {
        "id": "qXOXozd3t573"
      },
      "source": [
        "### **Pipeline**"
      ]
    },
    {
      "cell_type": "code",
      "execution_count": 121,
      "metadata": {
        "id": "tjQxMzYWpzrt"
      },
      "outputs": [],
      "source": [
        "preprocess()"
      ]
    },
    {
      "cell_type": "code",
      "execution_count": 122,
      "metadata": {
        "id": "ay3c-MAfdL3W"
      },
      "outputs": [],
      "source": [
        "model = make_model()"
      ]
    },
    {
      "cell_type": "code",
      "execution_count": 123,
      "metadata": {
        "id": "aK0iM2ZZdL3W",
        "scrolled": true,
        "colab": {
          "base_uri": "https://localhost:8080/"
        },
        "outputId": "fd4e932b-cec6-47bc-d878-a6301cbce083"
      },
      "outputs": [
        {
          "output_type": "stream",
          "name": "stdout",
          "text": [
            "[epoch  0] [step  10] train_loss: 1.0773 train_acc: 0.4290 val_loss: 1.0685 val_acc: 0.4535\n",
            "[epoch  0] [step  20] train_loss: 1.0740 train_acc: 0.4437 val_loss: 1.0693 val_acc: 0.4542\n",
            "[epoch  0] [step  30] train_loss: 1.0467 train_acc: 0.4938 val_loss: 1.0737 val_acc: 0.4550\n",
            "[epoch  0] [step  40] train_loss: 1.0678 train_acc: 0.4469 val_loss: 1.0560 val_acc: 0.4459\n",
            "[epoch  0] [step  50] train_loss: 1.0795 train_acc: 0.4250 val_loss: 1.1075 val_acc: 0.3273\n",
            "[epoch  0] [step  60] train_loss: 1.0854 train_acc: 0.3719 val_loss: 1.0392 val_acc: 0.4512\n",
            "[epoch  0] [step  70] train_loss: 1.0694 train_acc: 0.3906 val_loss: 1.0175 val_acc: 0.4602\n",
            "[epoch  0] [step  80] train_loss: 1.0130 train_acc: 0.4969 val_loss: 0.9709 val_acc: 0.5571\n",
            "[epoch  0] [step  90] train_loss: 0.9651 train_acc: 0.5563 val_loss: 0.9303 val_acc: 0.5428\n",
            "[epoch  0] [step 100] train_loss: 0.9809 train_acc: 0.5500 val_loss: 0.8886 val_acc: 0.5998\n",
            "[epoch  0] [step 110] train_loss: 0.9408 train_acc: 0.5625 val_loss: 0.8610 val_acc: 0.6074\n",
            "[epoch  0] [step 120] train_loss: 0.8703 train_acc: 0.5813 val_loss: 0.8496 val_acc: 0.6096\n",
            "[epoch  0] [step 130] train_loss: 0.8736 train_acc: 0.6062 val_loss: 0.8458 val_acc: 0.6066\n",
            "[epoch  0] [step 140] train_loss: 0.8855 train_acc: 0.5781 val_loss: 0.8517 val_acc: 0.6021\n",
            "[epoch  0] [step 150] train_loss: 0.8614 train_acc: 0.6062 val_loss: 0.8405 val_acc: 0.6216\n",
            "[epoch  0] [step 160] train_loss: 0.7660 train_acc: 0.6719 val_loss: 0.8473 val_acc: 0.6246\n",
            "[epoch  0] [step 170] train_loss: 0.8627 train_acc: 0.6062 val_loss: 0.8345 val_acc: 0.6306\n",
            "[epoch  0] [step 180] train_loss: 0.8567 train_acc: 0.5969 val_loss: 0.8198 val_acc: 0.6404\n",
            "[epoch  0] [step 190] train_loss: 0.8745 train_acc: 0.5969 val_loss: 0.8058 val_acc: 0.6494\n",
            "[epoch  0] [step 200] train_loss: 0.8122 train_acc: 0.6156 val_loss: 0.7947 val_acc: 0.6486\n",
            "[epoch  0] [step 210] train_loss: 0.8047 train_acc: 0.6500 val_loss: 0.7855 val_acc: 0.6517\n",
            "[epoch  0] [step 220] train_loss: 0.7136 train_acc: 0.6969 val_loss: 0.7742 val_acc: 0.6689\n",
            "[epoch  0] [step 230] train_loss: 0.7585 train_acc: 0.6469 val_loss: 0.7425 val_acc: 0.6757\n",
            "[epoch  0] [step 240] train_loss: 0.7078 train_acc: 0.7094 val_loss: 0.7321 val_acc: 0.6877\n",
            "[epoch  0] [step 250] train_loss: 0.7587 train_acc: 0.6687 val_loss: 0.7144 val_acc: 0.6899\n",
            "[epoch  0] [step 260] train_loss: 0.7442 train_acc: 0.6813 val_loss: 0.6850 val_acc: 0.7230\n",
            "[epoch  0] [step 270] train_loss: 0.7072 train_acc: 0.7156 val_loss: 0.6362 val_acc: 0.7275\n",
            "[epoch  0] [step 280] train_loss: 0.6654 train_acc: 0.7281 val_loss: 0.5961 val_acc: 0.7515\n",
            "[epoch  0] [step 290] train_loss: 0.5834 train_acc: 0.7531 val_loss: 0.5811 val_acc: 0.7628\n",
            "[epoch  0] [step 300] train_loss: 0.6075 train_acc: 0.7844 val_loss: 0.5635 val_acc: 0.7763\n",
            "[epoch  0] [step 310] train_loss: 0.6354 train_acc: 0.7281 val_loss: 0.5517 val_acc: 0.7883\n",
            "[epoch  0] [step 320] train_loss: 0.5383 train_acc: 0.7937 val_loss: 0.5412 val_acc: 0.7935\n",
            "[epoch  0] [step 330] train_loss: 0.4876 train_acc: 0.8094 val_loss: 0.5601 val_acc: 0.7733\n",
            "[epoch  0] [step 340] train_loss: 0.6246 train_acc: 0.7562 val_loss: 0.5459 val_acc: 0.7725\n",
            "time: 485.8394s\n",
            "[epoch  1] [step  10] train_loss: 0.4439 train_acc: 0.8125 val_loss: 0.5529 val_acc: 0.7680\n",
            "[epoch  1] [step  20] train_loss: 0.4796 train_acc: 0.8094 val_loss: 0.5336 val_acc: 0.7875\n",
            "[epoch  1] [step  30] train_loss: 0.4268 train_acc: 0.8438 val_loss: 0.5326 val_acc: 0.7898\n",
            "[epoch  1] [step  40] train_loss: 0.4733 train_acc: 0.8219 val_loss: 0.5430 val_acc: 0.7890\n",
            "[epoch  1] [step  50] train_loss: 0.4486 train_acc: 0.8187 val_loss: 0.5408 val_acc: 0.7838\n",
            "[epoch  1] [step  60] train_loss: 0.4824 train_acc: 0.8250 val_loss: 0.5270 val_acc: 0.7973\n",
            "[epoch  1] [step  70] train_loss: 0.5080 train_acc: 0.8156 val_loss: 0.5338 val_acc: 0.7875\n",
            "[epoch  1] [step  80] train_loss: 0.4660 train_acc: 0.8250 val_loss: 0.5110 val_acc: 0.8101\n",
            "[epoch  1] [step  90] train_loss: 0.5274 train_acc: 0.7937 val_loss: 0.5040 val_acc: 0.8101\n",
            "[epoch  1] [step 100] train_loss: 0.5210 train_acc: 0.8125 val_loss: 0.4943 val_acc: 0.8123\n",
            "[epoch  1] [step 110] train_loss: 0.4275 train_acc: 0.8406 val_loss: 0.5032 val_acc: 0.8078\n",
            "[epoch  1] [step 120] train_loss: 0.4150 train_acc: 0.8438 val_loss: 0.4999 val_acc: 0.8101\n",
            "[epoch  1] [step 130] train_loss: 0.4364 train_acc: 0.8313 val_loss: 0.5039 val_acc: 0.8131\n",
            "[epoch  1] [step 140] train_loss: 0.4186 train_acc: 0.8375 val_loss: 0.5337 val_acc: 0.8056\n",
            "[epoch  1] [step 150] train_loss: 0.4819 train_acc: 0.8156 val_loss: 0.5028 val_acc: 0.8041\n",
            "[epoch  1] [step 160] train_loss: 0.4053 train_acc: 0.8500 val_loss: 0.4984 val_acc: 0.8093\n",
            "[epoch  1] [step 170] train_loss: 0.4105 train_acc: 0.8406 val_loss: 0.5209 val_acc: 0.7920\n",
            "[epoch  1] [step 180] train_loss: 0.5208 train_acc: 0.8156 val_loss: 0.4841 val_acc: 0.8153\n",
            "[epoch  1] [step 190] train_loss: 0.3720 train_acc: 0.8531 val_loss: 0.4840 val_acc: 0.8131\n",
            "[epoch  1] [step 200] train_loss: 0.4333 train_acc: 0.8406 val_loss: 0.4797 val_acc: 0.8108\n",
            "[epoch  1] [step 210] train_loss: 0.4278 train_acc: 0.8438 val_loss: 0.4868 val_acc: 0.8108\n",
            "[epoch  1] [step 220] train_loss: 0.4578 train_acc: 0.8219 val_loss: 0.5242 val_acc: 0.7890\n",
            "[epoch  1] [step 230] train_loss: 0.4453 train_acc: 0.8219 val_loss: 0.4836 val_acc: 0.8183\n",
            "[epoch  1] [step 240] train_loss: 0.4797 train_acc: 0.7875 val_loss: 0.4815 val_acc: 0.8236\n",
            "[epoch  1] [step 250] train_loss: 0.5523 train_acc: 0.7844 val_loss: 0.4740 val_acc: 0.8176\n",
            "[epoch  1] [step 260] train_loss: 0.4392 train_acc: 0.8219 val_loss: 0.4722 val_acc: 0.8236\n",
            "[epoch  1] [step 270] train_loss: 0.4788 train_acc: 0.7969 val_loss: 0.4736 val_acc: 0.8236\n",
            "[epoch  1] [step 280] train_loss: 0.4061 train_acc: 0.8469 val_loss: 0.4740 val_acc: 0.8266\n",
            "[epoch  1] [step 290] train_loss: 0.4324 train_acc: 0.8375 val_loss: 0.4751 val_acc: 0.8183\n",
            "[epoch  1] [step 300] train_loss: 0.3997 train_acc: 0.8375 val_loss: 0.4845 val_acc: 0.8176\n",
            "[epoch  1] [step 310] train_loss: 0.4056 train_acc: 0.8531 val_loss: 0.4790 val_acc: 0.8198\n",
            "[epoch  1] [step 320] train_loss: 0.4677 train_acc: 0.8250 val_loss: 0.5028 val_acc: 0.8131\n",
            "[epoch  1] [step 330] train_loss: 0.4519 train_acc: 0.8156 val_loss: 0.4874 val_acc: 0.8138\n",
            "[epoch  1] [step 340] train_loss: 0.3884 train_acc: 0.8500 val_loss: 0.5073 val_acc: 0.8123\n",
            "time: 501.4837s\n",
            "[epoch  2] [step  10] train_loss: 0.3769 train_acc: 0.8551 val_loss: 0.4924 val_acc: 0.8176\n",
            "[epoch  2] [step  20] train_loss: 0.2942 train_acc: 0.8938 val_loss: 0.4817 val_acc: 0.8333\n",
            "[epoch  2] [step  30] train_loss: 0.3120 train_acc: 0.8875 val_loss: 0.5020 val_acc: 0.8153\n",
            "[epoch  2] [step  40] train_loss: 0.2704 train_acc: 0.9125 val_loss: 0.4971 val_acc: 0.8236\n",
            "[epoch  2] [step  50] train_loss: 0.2992 train_acc: 0.9000 val_loss: 0.5034 val_acc: 0.8326\n",
            "[epoch  2] [step  60] train_loss: 0.2829 train_acc: 0.9000 val_loss: 0.5045 val_acc: 0.8273\n",
            "[epoch  2] [step  70] train_loss: 0.2059 train_acc: 0.9281 val_loss: 0.5106 val_acc: 0.8213\n",
            "[epoch  2] [step  80] train_loss: 0.2465 train_acc: 0.9281 val_loss: 0.5567 val_acc: 0.8236\n",
            "[epoch  2] [step  90] train_loss: 0.3178 train_acc: 0.9000 val_loss: 0.5203 val_acc: 0.8176\n",
            "[epoch  2] [step 100] train_loss: 0.3159 train_acc: 0.8844 val_loss: 0.5207 val_acc: 0.8213\n",
            "[epoch  2] [step 110] train_loss: 0.2697 train_acc: 0.8969 val_loss: 0.5198 val_acc: 0.8243\n",
            "[epoch  2] [step 120] train_loss: 0.3068 train_acc: 0.8906 val_loss: 0.5470 val_acc: 0.8258\n",
            "[epoch  2] [step 130] train_loss: 0.2607 train_acc: 0.8938 val_loss: 0.5200 val_acc: 0.8228\n",
            "[epoch  2] [step 140] train_loss: 0.2124 train_acc: 0.9125 val_loss: 0.5415 val_acc: 0.8213\n",
            "[epoch  2] [step 150] train_loss: 0.3184 train_acc: 0.8844 val_loss: 0.5269 val_acc: 0.8161\n",
            "[epoch  2] [step 160] train_loss: 0.3050 train_acc: 0.9000 val_loss: 0.5139 val_acc: 0.8213\n",
            "[epoch  2] [step 170] train_loss: 0.2981 train_acc: 0.8844 val_loss: 0.5092 val_acc: 0.8183\n",
            "[epoch  2] [step 180] train_loss: 0.3262 train_acc: 0.8844 val_loss: 0.5134 val_acc: 0.8221\n",
            "[epoch  2] [step 190] train_loss: 0.2795 train_acc: 0.8938 val_loss: 0.5097 val_acc: 0.8138\n",
            "[epoch  2] [step 200] train_loss: 0.2185 train_acc: 0.9281 val_loss: 0.5266 val_acc: 0.8108\n",
            "[epoch  2] [step 210] train_loss: 0.2700 train_acc: 0.9031 val_loss: 0.5137 val_acc: 0.8213\n",
            "[epoch  2] [step 220] train_loss: 0.2718 train_acc: 0.9031 val_loss: 0.5272 val_acc: 0.8191\n",
            "[epoch  2] [step 230] train_loss: 0.2931 train_acc: 0.8844 val_loss: 0.5108 val_acc: 0.8296\n",
            "[epoch  2] [step 240] train_loss: 0.2671 train_acc: 0.9062 val_loss: 0.5236 val_acc: 0.8258\n",
            "[epoch  2] [step 250] train_loss: 0.3347 train_acc: 0.8656 val_loss: 0.5203 val_acc: 0.8243\n",
            "[epoch  2] [step 260] train_loss: 0.2705 train_acc: 0.8938 val_loss: 0.5045 val_acc: 0.8206\n",
            "[epoch  2] [step 270] train_loss: 0.2873 train_acc: 0.9031 val_loss: 0.5077 val_acc: 0.8296\n",
            "[epoch  2] [step 280] train_loss: 0.2331 train_acc: 0.9156 val_loss: 0.5259 val_acc: 0.8206\n",
            "[epoch  2] [step 290] train_loss: 0.2249 train_acc: 0.9156 val_loss: 0.5328 val_acc: 0.8221\n",
            "[epoch  2] [step 300] train_loss: 0.2607 train_acc: 0.9062 val_loss: 0.5354 val_acc: 0.8236\n",
            "[epoch  2] [step 310] train_loss: 0.2969 train_acc: 0.9062 val_loss: 0.5183 val_acc: 0.8258\n",
            "[epoch  2] [step 320] train_loss: 0.2543 train_acc: 0.9062 val_loss: 0.5266 val_acc: 0.8251\n",
            "[epoch  2] [step 330] train_loss: 0.3564 train_acc: 0.8750 val_loss: 0.5164 val_acc: 0.8183\n",
            "[epoch  2] [step 340] train_loss: 0.3550 train_acc: 0.8750 val_loss: 0.5076 val_acc: 0.8206\n",
            "time: 484.1721s\n",
            "[epoch  3] [step  10] train_loss: 0.2089 train_acc: 0.9347 val_loss: 0.5098 val_acc: 0.8281\n",
            "[epoch  3] [step  20] train_loss: 0.1297 train_acc: 0.9563 val_loss: 0.5536 val_acc: 0.8221\n",
            "[epoch  3] [step  30] train_loss: 0.1417 train_acc: 0.9375 val_loss: 0.5559 val_acc: 0.8266\n",
            "[epoch  3] [step  40] train_loss: 0.1791 train_acc: 0.9313 val_loss: 0.5975 val_acc: 0.8206\n",
            "[epoch  3] [step  50] train_loss: 0.1753 train_acc: 0.9375 val_loss: 0.5762 val_acc: 0.8078\n",
            "[epoch  3] [step  60] train_loss: 0.1803 train_acc: 0.9469 val_loss: 0.5649 val_acc: 0.8228\n",
            "[epoch  3] [step  70] train_loss: 0.1466 train_acc: 0.9469 val_loss: 0.5805 val_acc: 0.8206\n",
            "[epoch  3] [step  80] train_loss: 0.1755 train_acc: 0.9500 val_loss: 0.5860 val_acc: 0.8288\n",
            "[epoch  3] [step  90] train_loss: 0.1448 train_acc: 0.9594 val_loss: 0.6064 val_acc: 0.8266\n",
            "[epoch  3] [step 100] train_loss: 0.1841 train_acc: 0.9375 val_loss: 0.6040 val_acc: 0.8258\n",
            "[epoch  3] [step 110] train_loss: 0.2014 train_acc: 0.9281 val_loss: 0.5743 val_acc: 0.8258\n",
            "[epoch  3] [step 120] train_loss: 0.2278 train_acc: 0.9094 val_loss: 0.5674 val_acc: 0.8191\n",
            "[epoch  3] [step 130] train_loss: 0.1746 train_acc: 0.9375 val_loss: 0.5615 val_acc: 0.8243\n",
            "[epoch  3] [step 140] train_loss: 0.1580 train_acc: 0.9500 val_loss: 0.5937 val_acc: 0.8168\n",
            "[epoch  3] [step 150] train_loss: 0.1355 train_acc: 0.9563 val_loss: 0.5988 val_acc: 0.8243\n",
            "[epoch  3] [step 160] train_loss: 0.2129 train_acc: 0.9281 val_loss: 0.6337 val_acc: 0.8206\n",
            "[epoch  3] [step 170] train_loss: 0.1176 train_acc: 0.9594 val_loss: 0.6309 val_acc: 0.8243\n",
            "[epoch  3] [step 180] train_loss: 0.1813 train_acc: 0.9437 val_loss: 0.6259 val_acc: 0.8258\n",
            "[epoch  3] [step 190] train_loss: 0.2028 train_acc: 0.9219 val_loss: 0.6157 val_acc: 0.8258\n",
            "[epoch  3] [step 200] train_loss: 0.2120 train_acc: 0.9344 val_loss: 0.5890 val_acc: 0.8311\n",
            "[epoch  3] [step 210] train_loss: 0.1803 train_acc: 0.9375 val_loss: 0.5740 val_acc: 0.8288\n",
            "[epoch  3] [step 220] train_loss: 0.1576 train_acc: 0.9469 val_loss: 0.5901 val_acc: 0.8236\n",
            "[epoch  3] [step 230] train_loss: 0.1588 train_acc: 0.9563 val_loss: 0.5827 val_acc: 0.8303\n",
            "[epoch  3] [step 240] train_loss: 0.1705 train_acc: 0.9375 val_loss: 0.5983 val_acc: 0.8311\n",
            "[epoch  3] [step 250] train_loss: 0.1442 train_acc: 0.9437 val_loss: 0.6043 val_acc: 0.8258\n",
            "[epoch  3] [step 260] train_loss: 0.1621 train_acc: 0.9469 val_loss: 0.5947 val_acc: 0.8281\n",
            "[epoch  3] [step 270] train_loss: 0.1624 train_acc: 0.9469 val_loss: 0.6191 val_acc: 0.8161\n",
            "[epoch  3] [step 280] train_loss: 0.1964 train_acc: 0.9375 val_loss: 0.6234 val_acc: 0.8191\n",
            "[epoch  3] [step 290] train_loss: 0.1465 train_acc: 0.9500 val_loss: 0.5787 val_acc: 0.8303\n",
            "[epoch  3] [step 300] train_loss: 0.2006 train_acc: 0.9313 val_loss: 0.5968 val_acc: 0.8221\n",
            "[epoch  3] [step 310] train_loss: 0.1809 train_acc: 0.9437 val_loss: 0.5696 val_acc: 0.8273\n",
            "[epoch  3] [step 320] train_loss: 0.2403 train_acc: 0.9250 val_loss: 0.5636 val_acc: 0.8281\n",
            "[epoch  3] [step 330] train_loss: 0.1688 train_acc: 0.9375 val_loss: 0.5618 val_acc: 0.8281\n",
            "[epoch  3] [step 340] train_loss: 0.1709 train_acc: 0.9437 val_loss: 0.5838 val_acc: 0.8311\n",
            "time: 484.0957s\n",
            "[epoch  4] [step  10] train_loss: 0.1510 train_acc: 0.9517 val_loss: 0.5473 val_acc: 0.8251\n",
            "[epoch  4] [step  20] train_loss: 0.0665 train_acc: 0.9812 val_loss: 0.5837 val_acc: 0.8296\n",
            "[epoch  4] [step  30] train_loss: 0.0976 train_acc: 0.9750 val_loss: 0.5911 val_acc: 0.8273\n",
            "[epoch  4] [step  40] train_loss: 0.0756 train_acc: 0.9781 val_loss: 0.6212 val_acc: 0.8296\n",
            "[epoch  4] [step  50] train_loss: 0.1177 train_acc: 0.9688 val_loss: 0.6561 val_acc: 0.8258\n",
            "[epoch  4] [step  60] train_loss: 0.1256 train_acc: 0.9469 val_loss: 0.6702 val_acc: 0.8191\n",
            "[epoch  4] [step  70] train_loss: 0.0943 train_acc: 0.9719 val_loss: 0.6278 val_acc: 0.8273\n",
            "[epoch  4] [step  80] train_loss: 0.1112 train_acc: 0.9688 val_loss: 0.6344 val_acc: 0.8296\n",
            "[epoch  4] [step  90] train_loss: 0.1360 train_acc: 0.9563 val_loss: 0.6216 val_acc: 0.8288\n",
            "[epoch  4] [step 100] train_loss: 0.0950 train_acc: 0.9750 val_loss: 0.6191 val_acc: 0.8386\n",
            "[epoch  4] [step 110] train_loss: 0.1573 train_acc: 0.9469 val_loss: 0.6362 val_acc: 0.8378\n",
            "[epoch  4] [step 120] train_loss: 0.0856 train_acc: 0.9656 val_loss: 0.6650 val_acc: 0.8266\n",
            "[epoch  4] [step 130] train_loss: 0.1061 train_acc: 0.9656 val_loss: 0.6442 val_acc: 0.8236\n",
            "[epoch  4] [step 140] train_loss: 0.1053 train_acc: 0.9656 val_loss: 0.6516 val_acc: 0.8251\n",
            "[epoch  4] [step 150] train_loss: 0.1015 train_acc: 0.9719 val_loss: 0.6471 val_acc: 0.8243\n",
            "[epoch  4] [step 160] train_loss: 0.1186 train_acc: 0.9625 val_loss: 0.6571 val_acc: 0.8348\n",
            "[epoch  4] [step 170] train_loss: 0.1457 train_acc: 0.9437 val_loss: 0.6628 val_acc: 0.8281\n",
            "[epoch  4] [step 180] train_loss: 0.1106 train_acc: 0.9719 val_loss: 0.6766 val_acc: 0.8288\n",
            "[epoch  4] [step 190] train_loss: 0.0884 train_acc: 0.9750 val_loss: 0.6559 val_acc: 0.8341\n",
            "[epoch  4] [step 200] train_loss: 0.0793 train_acc: 0.9688 val_loss: 0.6722 val_acc: 0.8281\n",
            "[epoch  4] [step 210] train_loss: 0.0790 train_acc: 0.9781 val_loss: 0.7070 val_acc: 0.8191\n",
            "[epoch  4] [step 220] train_loss: 0.1381 train_acc: 0.9563 val_loss: 0.7127 val_acc: 0.8198\n",
            "[epoch  4] [step 230] train_loss: 0.0883 train_acc: 0.9750 val_loss: 0.6989 val_acc: 0.8363\n",
            "[epoch  4] [step 240] train_loss: 0.0813 train_acc: 0.9781 val_loss: 0.7350 val_acc: 0.8213\n",
            "[epoch  4] [step 250] train_loss: 0.1822 train_acc: 0.9500 val_loss: 0.7533 val_acc: 0.8153\n",
            "[epoch  4] [step 260] train_loss: 0.1579 train_acc: 0.9469 val_loss: 0.6659 val_acc: 0.8213\n",
            "[epoch  4] [step 270] train_loss: 0.1257 train_acc: 0.9688 val_loss: 0.6465 val_acc: 0.8318\n",
            "[epoch  4] [step 280] train_loss: 0.0936 train_acc: 0.9688 val_loss: 0.6980 val_acc: 0.8198\n",
            "[epoch  4] [step 290] train_loss: 0.1220 train_acc: 0.9625 val_loss: 0.6647 val_acc: 0.8258\n",
            "[epoch  4] [step 300] train_loss: 0.1431 train_acc: 0.9500 val_loss: 0.6625 val_acc: 0.8243\n",
            "[epoch  4] [step 310] train_loss: 0.0956 train_acc: 0.9750 val_loss: 0.6752 val_acc: 0.8288\n",
            "[epoch  4] [step 320] train_loss: 0.0759 train_acc: 0.9781 val_loss: 0.6833 val_acc: 0.8281\n",
            "[epoch  4] [step 330] train_loss: 0.1299 train_acc: 0.9594 val_loss: 0.6796 val_acc: 0.8228\n",
            "[epoch  4] [step 340] train_loss: 0.1226 train_acc: 0.9688 val_loss: 0.6703 val_acc: 0.8318\n",
            "time: 483.7951s\n",
            "max_val_accuracy: 0.8385885885885885\n"
          ]
        }
      ],
      "source": [
        "train_accs, train_losses, val_accs, val_losses = train()"
      ]
    },
    {
      "cell_type": "code",
      "source": [
        "test_labels, predicted_labels = test()"
      ],
      "metadata": {
        "id": "uZH08jYT2Uan",
        "colab": {
          "base_uri": "https://localhost:8080/"
        },
        "outputId": "f8d1119a-23a2-421b-c4f1-be985976fec3"
      },
      "execution_count": 124,
      "outputs": [
        {
          "output_type": "stream",
          "name": "stdout",
          "text": [
            "test:\taccuracy: 0.8099\n"
          ]
        }
      ]
    },
    {
      "cell_type": "code",
      "source": [
        "print(len(test_labels))\n",
        "print(len(predicted_labels))\n",
        "print(test_labels[0][0].item())\n",
        "print(predicted_labels[0][0].item())"
      ],
      "metadata": {
        "colab": {
          "base_uri": "https://localhost:8080/"
        },
        "id": "x-LV8fYPECNm",
        "outputId": "ed7fdd64-6fd4-470b-83e0-375751b12168"
      },
      "execution_count": 125,
      "outputs": [
        {
          "output_type": "stream",
          "name": "stdout",
          "text": [
            "42\n",
            "42\n",
            "1\n",
            "2\n"
          ]
        }
      ]
    },
    {
      "cell_type": "code",
      "source": [
        "test_labels_ls = convertTensorToList(test_labels)\n",
        "print(test_labels_ls)\n",
        "predicted_labels_ls = convertTensorToList(predicted_labels)\n",
        "print(predicted_labels_ls)"
      ],
      "metadata": {
        "colab": {
          "base_uri": "https://localhost:8080/"
        },
        "id": "y05mA3O8FgEz",
        "outputId": "dc4c3878-90b5-4da4-dd23-b3a29a1b3c59"
      },
      "execution_count": 126,
      "outputs": [
        {
          "output_type": "stream",
          "name": "stdout",
          "text": [
            "[1, 2, 2, 1, 0, 1, 2, 1, 0, 1, 1, 2, 2, 0, 2, 2, 0, 1, 2, 2, 1, 2, 1, 1, 1, 1, 1, 2, 2, 1, 0, 2, 1, 1, 2, 2, 1, 1, 0, 1, 1, 0, 1, 1, 0, 0, 1, 1, 1, 1, 2, 0, 1, 1, 2, 1, 2, 1, 2, 1, 2, 2, 1, 1, 1, 0, 1, 2, 2, 2, 1, 2, 1, 1, 1, 2, 1, 1, 2, 2, 2, 2, 1, 2, 2, 0, 1, 0, 2, 0, 2, 1, 0, 1, 0, 1, 0, 2, 1, 2, 1, 1, 1, 1, 0, 0, 1, 2, 1, 1, 1, 2, 2, 2, 1, 0, 1, 2, 1, 0, 0, 1, 2, 0, 1, 1, 2, 1, 0, 1, 2, 1, 2, 0, 1, 1, 0, 0, 1, 0, 0, 2, 2, 1, 1, 0, 2, 0, 2, 1, 2, 1, 0, 2, 0, 1, 0, 1, 2, 2, 1, 1, 1, 1, 2, 1, 0, 1, 2, 0, 2, 1, 0, 2, 2, 0, 1, 0, 1, 0, 1, 0, 0, 1, 1, 1, 2, 2, 2, 1, 1, 2, 2, 1, 0, 1, 2, 1, 0, 2, 0, 1, 0, 1, 0, 0, 1, 0, 2, 1, 2, 2, 1, 1, 2, 1, 2, 1, 0, 0, 2, 0, 1, 2, 1, 0, 1, 0, 0, 0, 1, 1, 0, 2, 0, 1, 2, 0, 1, 0, 1, 1, 0, 2, 1, 1, 1, 1, 2, 0, 1, 2, 1, 1, 2, 0, 1, 0, 2, 1, 0, 1, 2, 2, 2, 2, 0, 1, 2, 1, 0, 2, 1, 1, 2, 1, 1, 0, 0, 0, 1, 0, 1, 1, 1, 1, 1, 2, 2, 2, 2, 2, 2, 2, 0, 1, 2, 1, 0, 2, 1, 0, 1, 2, 2, 2, 0, 1, 0, 1, 0, 1, 2, 2, 1, 1, 2, 2, 2, 0, 0, 1, 0, 0, 1, 0, 0, 1, 0, 1, 1, 0, 0, 0, 2, 1, 0, 2, 1, 0, 1, 0, 0, 1, 0, 1, 1, 0, 2, 1, 1, 2, 2, 1, 2, 2, 2, 0, 2, 0, 1, 0, 1, 1, 1, 2, 1, 2, 1, 2, 1, 0, 0, 2, 0, 1, 0, 2, 1, 1, 1, 1, 2, 2, 1, 2, 0, 1, 0, 1, 0, 0, 0, 2, 0, 1, 2, 0, 1, 1, 1, 0, 0, 2, 0, 1, 0, 1, 1, 2, 1, 2, 1, 0, 1, 1, 0, 1, 2, 2, 2, 2, 1, 0, 1, 2, 0, 1, 1, 2, 1, 1, 0, 1, 0, 1, 1, 0, 2, 1, 0, 1, 1, 0, 1, 1, 2, 2, 1, 1, 1, 0, 1, 2, 2, 2, 1, 1, 0, 2, 2, 1, 1, 0, 1, 2, 1, 0, 0, 1, 1, 1, 0, 1, 2, 1, 2, 2, 0, 1, 1, 0, 0, 1, 1, 0, 1, 1, 1, 2, 2, 0, 0, 0, 1, 0, 0, 1, 1, 0, 1, 0, 0, 1, 1, 1, 0, 2, 1, 0, 1, 1, 1, 2, 1, 0, 0, 1, 1, 1, 2, 1, 0, 0, 1, 1, 1, 2, 2, 1, 1, 2, 2, 1, 1, 0, 1, 2, 1, 1, 1, 1, 2, 1, 0, 2, 0, 0, 1, 1, 1, 2, 2, 1, 1, 1, 0, 1, 0, 1, 1, 2, 1, 2, 0, 1, 1, 1, 2, 1, 2, 1, 2, 2, 2, 1, 2, 1, 1, 1, 1, 2, 2, 1, 2, 1, 2, 1, 0, 0, 0, 1, 1, 1, 2, 2, 1, 1, 2, 2, 1, 1, 2, 2, 0, 2, 1, 1, 1, 1, 2, 1, 1, 0, 2, 0, 1, 1, 0, 2, 1, 2, 2, 1, 1, 0, 2, 0, 1, 2, 2, 1, 1, 1, 0, 1, 2, 2, 1, 2, 1, 1, 2, 1, 1, 1, 2, 0, 1, 2, 1, 0, 1, 0, 1, 0, 1, 2, 2, 1, 0, 2, 1, 0, 1, 2, 2, 2, 2, 1, 0, 0, 1, 1, 2, 2, 2, 1, 0, 0, 1, 1, 2, 2, 1, 1, 0, 1, 2, 2, 2, 2, 2, 2, 1, 1, 1, 0, 1, 0, 0, 2, 2, 2, 2, 2, 2, 0, 0, 1, 0, 1, 2, 2, 2, 0, 1, 2, 1, 1, 1, 0, 1, 1, 1, 2, 2, 0, 1, 1, 1, 2, 1, 0, 2, 2, 1, 1, 1, 2, 2, 2, 0, 0, 1, 1, 1, 0, 1, 2, 1, 2, 1, 1, 2, 0, 1, 1, 2, 1, 1, 2, 1, 1, 1, 1, 2, 1, 0, 1, 1, 2, 0, 1, 1, 2, 0, 1, 1, 0, 1, 1, 1, 1, 2, 1, 1, 1, 2, 0, 2, 2, 0, 0, 1, 1, 1, 0, 1, 2, 2, 2, 0, 1, 2, 1, 2, 0, 0, 2, 1, 1, 1, 0, 0, 1, 1, 2, 2, 2, 1, 0, 1, 1, 1, 1, 1, 2, 2, 1, 1, 2, 2, 1, 1, 2, 1, 1, 1, 0, 1, 0, 1, 0, 0, 0, 1, 1, 1, 0, 1, 1, 0, 2, 1, 2, 2, 1, 2, 1, 1, 0, 1, 2, 1, 1, 2, 0, 1, 1, 2, 0, 1, 1, 2, 2, 2, 1, 0, 0, 1, 0, 1, 1, 1, 0, 0, 1, 1, 2, 1, 2, 0, 1, 1, 0, 1, 2, 1, 0, 1, 1, 2, 2, 1, 1, 2, 1, 1, 2, 1, 2, 2, 0, 1, 2, 1, 1, 0, 0, 1, 2, 2, 1, 2, 0, 2, 0, 2, 1, 2, 2, 2, 1, 1, 2, 2, 1, 0, 1, 2, 0, 1, 1, 2, 2, 1, 0, 1, 1, 1, 0, 0, 1, 2, 1, 0, 1, 2, 0, 1, 2, 1, 0, 2, 0, 1, 1, 1, 2, 0, 1, 0, 1, 1, 0, 0, 1, 1, 2, 2, 0, 1, 0, 1, 0, 2, 0, 1, 0, 0, 1, 2, 1, 2, 1, 0, 1, 2, 2, 1, 1, 1, 0, 1, 0, 0, 1, 1, 1, 2, 1, 1, 0, 1, 2, 0, 1, 1, 0, 1, 0, 1, 2, 0, 0, 2, 2, 0, 2, 2, 1, 2, 1, 2, 2, 0, 0, 1, 2, 2, 0, 1, 1, 2, 2, 2, 1, 1, 0, 0, 1, 0, 1, 0, 1, 0, 0, 2, 2, 1, 1, 2, 1, 2, 2, 1, 2, 2, 0, 1, 1, 0, 0, 2, 2, 0, 0, 1, 1, 0, 2, 1, 1, 1, 2, 1, 1, 2, 0, 0, 1, 1, 0, 1, 1, 1, 2, 1, 1, 2, 2, 1, 2, 1, 2, 1, 2, 1, 0, 0, 2, 0, 1, 0, 1, 2, 0, 1, 0, 1, 0, 1, 1, 2, 1, 0, 0, 1, 2, 1, 2, 1, 1, 2, 2, 1, 0, 1, 2, 0, 0, 1, 0, 1, 1, 1, 2, 1, 2, 2, 2, 2, 1, 0, 2, 1, 1, 1, 2, 1, 2, 0, 1, 2, 0, 1, 0, 0, 1, 0, 2, 1, 2, 0, 0, 1, 1, 2, 0, 1, 1, 2, 2, 0, 1, 1, 1, 2, 1, 1, 1, 2, 2, 0, 1, 2, 2, 2, 1, 0, 1, 1, 2, 1, 1, 0, 0, 1, 2, 2, 1, 1, 1, 2, 2, 1, 1, 0, 2, 1, 0, 1, 0, 2, 2, 0, 1, 2, 1, 1, 2, 2, 0, 0, 2, 1, 1, 1, 2, 2, 1, 0, 1, 0, 1, 1, 1, 0, 0, 1, 0, 1, 2, 1, 1, 1, 1, 1, 2, 2, 1, 0, 1, 1, 0, 1, 1, 2, 1, 0, 1, 0, 2, 1, 2, 2, 2, 2, 2, 2, 2, 2, 1, 1, 2, 2, 1, 0, 1, 2, 1, 2, 1, 1, 2, 0, 2, 0, 1, 1, 0, 2, 2, 0, 2, 2, 0, 0, 0, 1, 0, 1, 2, 0, 0, 1, 1, 2, 1, 1, 0, 0, 1, 0, 1, 1, 2, 1, 1, 2, 2, 1, 1, 0, 0]\n",
            "[2, 2, 2, 0, 0, 1, 2, 1, 0, 1, 1, 0, 2, 0, 0, 0, 0, 1, 2, 2, 2, 2, 1, 1, 1, 1, 1, 1, 2, 1, 0, 2, 1, 1, 2, 2, 1, 1, 2, 1, 1, 0, 1, 1, 0, 0, 1, 1, 2, 2, 2, 0, 0, 0, 2, 1, 1, 1, 1, 1, 2, 2, 1, 1, 1, 0, 1, 2, 2, 2, 0, 2, 1, 1, 1, 2, 1, 2, 2, 2, 2, 2, 2, 2, 0, 0, 1, 0, 2, 0, 1, 1, 0, 1, 0, 1, 0, 0, 1, 2, 2, 1, 1, 1, 0, 0, 1, 2, 0, 1, 2, 2, 2, 2, 1, 0, 1, 2, 1, 0, 0, 1, 2, 0, 2, 1, 1, 1, 0, 1, 2, 1, 1, 0, 1, 1, 0, 0, 1, 1, 0, 1, 2, 0, 1, 0, 2, 0, 2, 1, 2, 1, 0, 2, 1, 1, 0, 1, 2, 0, 1, 1, 1, 1, 1, 1, 0, 1, 0, 0, 2, 1, 0, 2, 0, 0, 1, 1, 0, 1, 2, 2, 0, 1, 1, 1, 2, 2, 1, 0, 2, 1, 1, 1, 0, 1, 2, 1, 0, 2, 0, 1, 0, 1, 0, 0, 1, 0, 2, 0, 2, 2, 1, 1, 2, 1, 2, 1, 0, 0, 2, 1, 0, 0, 1, 0, 1, 0, 1, 1, 1, 1, 0, 2, 0, 1, 1, 0, 1, 2, 1, 1, 1, 2, 2, 1, 1, 1, 2, 0, 1, 2, 1, 1, 1, 0, 1, 0, 2, 1, 0, 1, 2, 1, 1, 2, 1, 2, 2, 1, 2, 2, 1, 0, 2, 1, 2, 0, 0, 0, 1, 0, 1, 2, 2, 2, 1, 2, 1, 2, 1, 1, 1, 2, 0, 1, 2, 2, 0, 2, 1, 0, 1, 2, 2, 2, 0, 1, 0, 1, 0, 1, 2, 1, 1, 1, 2, 2, 2, 0, 0, 1, 0, 0, 1, 1, 0, 1, 0, 1, 1, 1, 2, 0, 2, 1, 0, 2, 2, 0, 1, 0, 0, 1, 0, 1, 0, 1, 2, 1, 0, 2, 2, 1, 2, 2, 2, 0, 2, 0, 1, 0, 0, 0, 1, 2, 1, 1, 1, 2, 1, 0, 0, 2, 0, 1, 0, 2, 0, 2, 1, 1, 2, 2, 1, 2, 2, 1, 0, 0, 1, 0, 1, 2, 0, 1, 2, 1, 1, 1, 0, 0, 0, 2, 0, 1, 0, 1, 1, 0, 1, 1, 0, 1, 1, 1, 0, 2, 1, 1, 1, 2, 1, 1, 1, 1, 0, 1, 1, 2, 1, 1, 0, 1, 0, 1, 1, 2, 2, 1, 0, 1, 1, 1, 1, 1, 2, 1, 0, 1, 1, 1, 1, 2, 2, 1, 1, 1, 0, 1, 2, 1, 1, 0, 1, 2, 0, 0, 0, 1, 1, 1, 0, 1, 2, 1, 2, 2, 0, 1, 1, 0, 0, 1, 0, 0, 1, 1, 1, 2, 2, 0, 0, 1, 0, 1, 0, 1, 1, 0, 1, 0, 0, 1, 1, 1, 1, 2, 1, 0, 1, 1, 1, 1, 1, 0, 0, 1, 1, 1, 2, 1, 0, 0, 2, 1, 1, 2, 2, 1, 1, 2, 2, 1, 1, 0, 1, 2, 1, 2, 1, 1, 2, 1, 0, 2, 2, 0, 1, 1, 1, 2, 2, 2, 1, 1, 0, 1, 0, 1, 1, 2, 1, 2, 0, 1, 1, 1, 2, 1, 2, 1, 1, 2, 2, 1, 2, 1, 1, 1, 1, 2, 2, 0, 2, 2, 2, 1, 0, 0, 2, 1, 1, 0, 2, 1, 1, 2, 2, 2, 1, 1, 2, 0, 2, 2, 1, 1, 1, 0, 2, 1, 1, 2, 2, 0, 1, 1, 0, 1, 1, 2, 2, 1, 0, 0, 2, 0, 1, 2, 2, 1, 1, 1, 1, 1, 2, 2, 1, 2, 1, 1, 2, 1, 1, 1, 0, 2, 2, 2, 1, 0, 1, 1, 1, 0, 1, 2, 0, 1, 0, 2, 1, 0, 1, 2, 2, 2, 1, 1, 0, 0, 0, 1, 1, 0, 0, 1, 0, 0, 1, 1, 2, 1, 1, 1, 0, 1, 2, 1, 2, 2, 2, 2, 1, 1, 1, 0, 1, 0, 0, 2, 2, 2, 2, 2, 2, 0, 0, 2, 0, 1, 2, 2, 2, 1, 1, 1, 1, 1, 1, 0, 1, 1, 1, 1, 2, 0, 1, 1, 1, 2, 1, 0, 2, 2, 1, 1, 2, 2, 2, 2, 1, 0, 1, 1, 1, 0, 1, 2, 2, 2, 1, 1, 2, 0, 1, 1, 2, 1, 1, 2, 1, 1, 1, 1, 2, 1, 0, 1, 2, 2, 0, 0, 1, 2, 0, 1, 1, 0, 1, 1, 1, 1, 0, 1, 1, 0, 1, 0, 1, 2, 0, 0, 1, 1, 1, 0, 1, 1, 1, 2, 0, 1, 2, 1, 2, 1, 0, 1, 1, 1, 1, 1, 0, 1, 1, 2, 1, 2, 2, 0, 1, 1, 1, 1, 1, 2, 2, 2, 2, 2, 2, 1, 1, 2, 0, 1, 1, 0, 1, 0, 1, 0, 0, 0, 1, 1, 0, 1, 1, 1, 0, 2, 1, 1, 2, 1, 2, 1, 1, 0, 1, 2, 0, 1, 2, 0, 1, 1, 2, 0, 1, 0, 2, 1, 1, 1, 0, 0, 1, 1, 1, 1, 1, 0, 0, 1, 2, 2, 1, 2, 0, 1, 1, 0, 1, 2, 1, 0, 1, 1, 2, 2, 1, 1, 2, 1, 1, 1, 1, 2, 2, 0, 1, 2, 2, 2, 0, 0, 1, 2, 2, 1, 2, 0, 2, 0, 2, 2, 2, 2, 1, 1, 1, 2, 0, 0, 0, 1, 2, 0, 1, 1, 2, 2, 2, 0, 1, 1, 1, 0, 0, 1, 2, 1, 0, 2, 2, 0, 1, 2, 1, 0, 2, 0, 1, 1, 2, 2, 0, 1, 1, 1, 1, 0, 0, 1, 1, 0, 2, 0, 1, 0, 1, 0, 2, 0, 1, 0, 1, 1, 0, 1, 2, 1, 0, 1, 2, 2, 1, 1, 1, 0, 0, 1, 0, 1, 1, 1, 2, 1, 1, 0, 1, 2, 0, 1, 1, 0, 1, 0, 1, 2, 0, 2, 2, 2, 0, 1, 0, 1, 0, 1, 2, 2, 0, 0, 1, 2, 2, 0, 1, 1, 0, 2, 2, 1, 1, 0, 0, 1, 1, 1, 0, 0, 1, 0, 2, 2, 1, 1, 2, 1, 1, 1, 2, 2, 0, 1, 1, 1, 0, 0, 2, 2, 0, 0, 1, 0, 0, 2, 1, 1, 1, 1, 0, 1, 2, 2, 2, 1, 1, 0, 1, 2, 1, 2, 1, 1, 2, 2, 1, 0, 0, 2, 1, 2, 1, 0, 2, 2, 0, 1, 0, 1, 2, 0, 0, 1, 1, 0, 1, 0, 2, 1, 0, 0, 0, 0, 1, 2, 2, 1, 2, 2, 1, 0, 1, 2, 0, 0, 1, 0, 1, 1, 2, 2, 1, 2, 2, 2, 2, 1, 0, 2, 1, 1, 1, 1, 0, 2, 0, 0, 2, 0, 1, 0, 0, 1, 0, 2, 1, 2, 0, 0, 1, 1, 2, 1, 1, 1, 2, 1, 0, 1, 1, 1, 2, 1, 1, 1, 2, 2, 2, 1, 2, 0, 2, 1, 0, 0, 1, 2, 2, 1, 0, 0, 1, 2, 2, 1, 1, 1, 2, 2, 1, 1, 0, 2, 1, 0, 1, 0, 2, 2, 0, 0, 1, 1, 2, 2, 2, 1, 2, 1, 1, 1, 1, 2, 2, 1, 0, 1, 0, 1, 1, 1, 0, 0, 1, 0, 1, 2, 1, 1, 1, 1, 1, 2, 2, 1, 0, 1, 0, 2, 1, 1, 2, 0, 1, 1, 0, 1, 2, 2, 2, 1, 2, 2, 1, 1, 2, 2, 1, 2, 2, 1, 0, 1, 1, 1, 0, 1, 1, 2, 0, 2, 0, 1, 1, 0, 0, 0, 0, 1, 2, 0, 0, 0, 1, 0, 1, 2, 2, 0, 1, 1, 0, 1, 0, 0, 0, 1, 0, 1, 1, 2, 1, 1, 2, 2, 1, 1, 0, 2]\n"
          ]
        }
      ]
    },
    {
      "cell_type": "markdown",
      "source": [
        "## EVALUATION METRIC"
      ],
      "metadata": {
        "id": "wmWeTgonpFpb"
      }
    },
    {
      "cell_type": "markdown",
      "source": [
        "### Confusion Matrix"
      ],
      "metadata": {
        "id": "OGTe43tTpfxn"
      }
    },
    {
      "cell_type": "code",
      "source": [
        "result = confusion_matrix(test_labels_ls, predicted_labels_ls)\n",
        "cf_matrix = pd.DataFrame(result, \n",
        "                                columns = [\"Predicted Negative\", \"Predicted Neutral\", \"Predicted Positive\"], \n",
        "                                index = [\"Actual Negative\", \"Actual Neutral\", \"Actual Positive\"])\n",
        "plt.figure(figsize = (10,7))\n",
        "sn.heatmap(cf_matrix, \n",
        "           annot=True, \n",
        "           cmap='Blues', \n",
        "           fmt='.3g')\n",
        "plt.show()"
      ],
      "metadata": {
        "id": "D3Q05su4i3Wr",
        "colab": {
          "base_uri": "https://localhost:8080/",
          "height": 428
        },
        "outputId": "8946547f-6e5d-4e40-d1e6-b278175edec1"
      },
      "execution_count": 127,
      "outputs": [
        {
          "output_type": "display_data",
          "data": {
            "text/plain": [
              "<Figure size 720x504 with 2 Axes>"
            ],
            "image/png": "[encoded data removed]"
          },
          "metadata": {
            "needs_background": "light"
          }
        }
      ]
    },
    {
      "cell_type": "markdown",
      "source": [
        "### F1 Score"
      ],
      "metadata": {
        "id": "73RV7NxFpmsk"
      }
    },
    {
      "cell_type": "code",
      "source": [
        "print(f1_score(test_labels_ls, predicted_labels_ls, average = \"macro\"))\n",
        "print(f1_score(test_labels_ls, predicted_labels_ls, average = \"micro\"))\n",
        "print(f1_score(test_labels_ls, predicted_labels_ls, average = \"weighted\"))"
      ],
      "metadata": {
        "id": "uodZJ4kipn2_",
        "colab": {
          "base_uri": "https://localhost:8080/"
        },
        "outputId": "11604be2-09c0-4335-f90e-c95a5f099ca1"
      },
      "execution_count": 128,
      "outputs": [
        {
          "output_type": "stream",
          "name": "stdout",
          "text": [
            "0.8046193546472176\n",
            "0.8098802395209581\n",
            "0.8097745691328841\n"
          ]
        }
      ]
    },
    {
      "cell_type": "markdown",
      "source": [
        "## Precision"
      ],
      "metadata": {
        "id": "BZSEvceCGUIF"
      }
    },
    {
      "cell_type": "code",
      "source": [
        "print(precision_score(test_labels_ls, predicted_labels_ls, average = \"macro\"))\n",
        "print(precision_score(test_labels_ls, predicted_labels_ls, average = \"micro\"))\n",
        "print(precision_score(test_labels_ls, predicted_labels_ls, average = \"weighted\"))"
      ],
      "metadata": {
        "colab": {
          "base_uri": "https://localhost:8080/"
        },
        "id": "BkEa7XsxGV0M",
        "outputId": "7fd42236-9fa4-4233-cd1d-f690f6a2b4e1"
      },
      "execution_count": 129,
      "outputs": [
        {
          "output_type": "stream",
          "name": "stdout",
          "text": [
            "0.8046700297466342\n",
            "0.8098802395209581\n",
            "0.81044117079954\n"
          ]
        }
      ]
    },
    {
      "cell_type": "markdown",
      "source": [
        "#3 Recall"
      ],
      "metadata": {
        "id": "g_zuSzUBGkau"
      }
    },
    {
      "cell_type": "code",
      "source": [
        "print(recall_score(test_labels_ls, predicted_labels_ls, average = \"macro\"))\n",
        "print(recall_score(test_labels_ls, predicted_labels_ls, average = \"micro\"))\n",
        "print(recall_score(test_labels_ls, predicted_labels_ls, average = \"weighted\"))"
      ],
      "metadata": {
        "colab": {
          "base_uri": "https://localhost:8080/"
        },
        "id": "AlCaP-PIGjzt",
        "outputId": "ccaa5feb-4ae2-4cbe-d7b3-bcc22c8cbbb4"
      },
      "execution_count": 130,
      "outputs": [
        {
          "output_type": "stream",
          "name": "stdout",
          "text": [
            "0.8054974887708247\n",
            "0.8098802395209581\n",
            "0.8098802395209581\n"
          ]
        }
      ]
    },
    {
      "cell_type": "markdown",
      "source": [
        "## Training and Validation Loss Graph each epoch"
      ],
      "metadata": {
        "id": "EfhXy8NYsB_1"
      }
    },
    {
      "cell_type": "code",
      "source": [
        "losses = train_losses\n",
        "accs = train_accs\n",
        "val_losses = val_losses\n",
        "val_accs = val_accs\n",
        "epochs = len(losses)\n",
        "print(epochs)\n",
        "\n",
        "plt.figure(figsize=(12, 4))\n",
        "for i, metrics in enumerate(zip([losses, accs], [val_losses, val_accs], ['Loss', 'Accuracy'])):\n",
        "  plt.subplot(1, 2, i + 1)\n",
        "  plt.plot(range(epochs), metrics[0], label='Training {}'.format(metrics[2]))\n",
        "  plt.plot(range(epochs), metrics[1], label='Validation {}'.format(metrics[2]))\n",
        "  plt.legend()\n",
        "plt.show()\n",
        "plt.savefig('bert__SPC_accuracy.png')"
      ],
      "metadata": {
        "id": "g3gccS3bsBBR",
        "colab": {
          "base_uri": "https://localhost:8080/",
          "height": 300
        },
        "outputId": "99e7995d-a268-4923-cbe2-d9db6a0fb3dc"
      },
      "execution_count": 131,
      "outputs": [
        {
          "output_type": "stream",
          "name": "stdout",
          "text": [
            "5\n"
          ]
        },
        {
          "output_type": "display_data",
          "data": {
            "text/plain": [
              "<Figure size 864x288 with 2 Axes>"
            ],
            "image/png": "[encoded data removed]"
          },
          "metadata": {
            "needs_background": "light"
          }
        },
        {
          "output_type": "display_data",
          "data": {
            "text/plain": [
              "<Figure size 432x288 with 0 Axes>"
            ]
          },
          "metadata": {}
        }
      ]
    },
    {
      "cell_type": "code",
      "source": [],
      "metadata": {
        "id": "3ZP6UyC_H93x"
      },
      "execution_count": 131,
      "outputs": []
    }
  ],
  "metadata": {
    "colab": {
      "collapsed_sections": [],
      "provenance": []
    },
    "kernelspec": {
      "display_name": "Python 3.8.13 ('CS4248-project')",
      "language": "python",
      "name": "python3"
    },
    "language_info": {
      "codemirror_mode": {
        "name": "ipython",
        "version": 3
      },
      "file_extension": ".py",
      "mimetype": "text/x-python",
      "name": "python",
      "nbconvert_exporter": "python",
      "pygments_lexer": "ipython3",
      "version": "3.8.13"
    },
    "vscode": {
      "interpreter": {
        "hash": "acc163ef47be86fb239cdb7a5b440891b3a074f9418fa7049e8ce9b17a74f46c"
      }
    },
    "gpuClass": "standard",
    "accelerator": "GPU"
  },
  "nbformat": 4,
  "nbformat_minor": 0
}