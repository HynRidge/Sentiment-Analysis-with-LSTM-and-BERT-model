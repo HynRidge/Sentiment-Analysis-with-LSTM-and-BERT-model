{
  "cells": [
    {
      "cell_type": "code",
      "execution_count": 1,
      "metadata": {
        "colab": {
          "base_uri": "https://localhost:8080/"
        },
        "id": "thkmr3cIgUUf",
        "outputId": "ff977b14-9601-46db-96db-46fc93eae029"
      },
      "outputs": [
        {
          "output_type": "stream",
          "name": "stdout",
          "text": [
            "Mounted at /content/drive\n"
          ]
        }
      ],
      "source": [
        "from google.colab import drive\n",
        "drive.mount('/content/drive')"
      ]
    },
    {
      "cell_type": "code",
      "source": [
        "!pip install pytorch_pretrained_bert\n",
        "!pip install git+https://github.com/huggingface/transformers\n",
        "\n",
        "from transformers import TFBertForSequenceClassification, BertTokenizer, BertConfig, AdamWeightDecay\n",
        "from sklearn.metrics import confusion_matrix\n",
        "from xml.etree.ElementTree import parse\n",
        "from pytorch_pretrained_bert import BertModel, BertTokenizer\n",
        "from keras_preprocessing.sequence import pad_sequences\n",
        "import tensorflow as tf\n",
        "import numpy as np\n",
        "import matplotlib.pyplot as plt"
      ],
      "metadata": {
        "colab": {
          "base_uri": "https://localhost:8080/"
        },
        "id": "clsKRxBbgCzN",
        "outputId": "b9d579d0-2be5-461e-d1ff-ddbd525a2f9d"
      },
      "execution_count": 2,
      "outputs": [
        {
          "output_type": "stream",
          "name": "stdout",
          "text": [
            "Looking in indexes: https://pypi.org/simple, https://us-python.pkg.dev/colab-wheels/public/simple/\n",
            "Collecting pytorch_pretrained_bert\n",
            "  Downloading pytorch_pretrained_bert-0.6.2-py3-none-any.whl (123 kB)\n",
            "\u001b[K     |████████████████████████████████| 123 kB 6.8 MB/s \n",
            "\u001b[?25hRequirement already satisfied: torch>=0.4.1 in /usr/local/lib/python3.7/dist-packages (from pytorch_pretrained_bert) (1.12.1+cu113)\n",
            "Requirement already satisfied: numpy in /usr/local/lib/python3.7/dist-packages (from pytorch_pretrained_bert) (1.21.6)\n",
            "Requirement already satisfied: requests in /usr/local/lib/python3.7/dist-packages (from pytorch_pretrained_bert) (2.23.0)\n",
            "Requirement already satisfied: tqdm in /usr/local/lib/python3.7/dist-packages (from pytorch_pretrained_bert) (4.64.1)\n",
            "Requirement already satisfied: regex in /usr/local/lib/python3.7/dist-packages (from pytorch_pretrained_bert) (2022.6.2)\n",
            "Collecting boto3\n",
            "  Downloading boto3-1.24.96-py3-none-any.whl (132 kB)\n",
            "\u001b[K     |████████████████████████████████| 132 kB 52.2 MB/s \n",
            "\u001b[?25hRequirement already satisfied: typing-extensions in /usr/local/lib/python3.7/dist-packages (from torch>=0.4.1->pytorch_pretrained_bert) (4.1.1)\n",
            "Collecting s3transfer<0.7.0,>=0.6.0\n",
            "  Downloading s3transfer-0.6.0-py3-none-any.whl (79 kB)\n",
            "\u001b[K     |████████████████████████████████| 79 kB 8.5 MB/s \n",
            "\u001b[?25hCollecting jmespath<2.0.0,>=0.7.1\n",
            "  Downloading jmespath-1.0.1-py3-none-any.whl (20 kB)\n",
            "Collecting botocore<1.28.0,>=1.27.96\n",
            "  Downloading botocore-1.27.96-py3-none-any.whl (9.3 MB)\n",
            "\u001b[K     |████████████████████████████████| 9.3 MB 66.8 MB/s \n",
            "\u001b[?25hCollecting urllib3<1.27,>=1.25.4\n",
            "  Downloading urllib3-1.26.12-py2.py3-none-any.whl (140 kB)\n",
            "\u001b[K     |████████████████████████████████| 140 kB 75.8 MB/s \n",
            "\u001b[?25hRequirement already satisfied: python-dateutil<3.0.0,>=2.1 in /usr/local/lib/python3.7/dist-packages (from botocore<1.28.0,>=1.27.96->boto3->pytorch_pretrained_bert) (2.8.2)\n",
            "Requirement already satisfied: six>=1.5 in /usr/local/lib/python3.7/dist-packages (from python-dateutil<3.0.0,>=2.1->botocore<1.28.0,>=1.27.96->boto3->pytorch_pretrained_bert) (1.15.0)\n",
            "  Downloading urllib3-1.25.11-py2.py3-none-any.whl (127 kB)\n",
            "\u001b[K     |████████████████████████████████| 127 kB 77.5 MB/s \n",
            "\u001b[?25hRequirement already satisfied: chardet<4,>=3.0.2 in /usr/local/lib/python3.7/dist-packages (from requests->pytorch_pretrained_bert) (3.0.4)\n",
            "Requirement already satisfied: idna<3,>=2.5 in /usr/local/lib/python3.7/dist-packages (from requests->pytorch_pretrained_bert) (2.10)\n",
            "Requirement already satisfied: certifi>=2017.4.17 in /usr/local/lib/python3.7/dist-packages (from requests->pytorch_pretrained_bert) (2022.9.24)\n",
            "Installing collected packages: urllib3, jmespath, botocore, s3transfer, boto3, pytorch-pretrained-bert\n",
            "  Attempting uninstall: urllib3\n",
            "    Found existing installation: urllib3 1.24.3\n",
            "    Uninstalling urllib3-1.24.3:\n",
            "      Successfully uninstalled urllib3-1.24.3\n",
            "Successfully installed boto3-1.24.96 botocore-1.27.96 jmespath-1.0.1 pytorch-pretrained-bert-0.6.2 s3transfer-0.6.0 urllib3-1.25.11\n",
            "Looking in indexes: https://pypi.org/simple, https://us-python.pkg.dev/colab-wheels/public/simple/\n",
            "Collecting git+https://github.com/huggingface/transformers\n",
            "  Cloning https://github.com/huggingface/transformers to /tmp/pip-req-build-4jhst4r1\n",
            "  Running command git clone -q https://github.com/huggingface/transformers /tmp/pip-req-build-4jhst4r1\n",
            "  Installing build dependencies ... \u001b[?25l\u001b[?25hdone\n",
            "  Getting requirements to build wheel ... \u001b[?25l\u001b[?25hdone\n",
            "    Preparing wheel metadata ... \u001b[?25l\u001b[?25hdone\n",
            "Requirement already satisfied: filelock in /usr/local/lib/python3.7/dist-packages (from transformers==4.24.0.dev0) (3.8.0)\n",
            "Requirement already satisfied: packaging>=20.0 in /usr/local/lib/python3.7/dist-packages (from transformers==4.24.0.dev0) (21.3)\n",
            "Requirement already satisfied: importlib-metadata in /usr/local/lib/python3.7/dist-packages (from transformers==4.24.0.dev0) (4.13.0)\n",
            "Requirement already satisfied: pyyaml>=5.1 in /usr/local/lib/python3.7/dist-packages (from transformers==4.24.0.dev0) (6.0)\n",
            "Requirement already satisfied: tqdm>=4.27 in /usr/local/lib/python3.7/dist-packages (from transformers==4.24.0.dev0) (4.64.1)\n",
            "Requirement already satisfied: regex!=2019.12.17 in /usr/local/lib/python3.7/dist-packages (from transformers==4.24.0.dev0) (2022.6.2)\n",
            "Requirement already satisfied: requests in /usr/local/lib/python3.7/dist-packages (from transformers==4.24.0.dev0) (2.23.0)\n",
            "Collecting huggingface-hub<1.0,>=0.10.0\n",
            "  Downloading huggingface_hub-0.10.1-py3-none-any.whl (163 kB)\n",
            "\u001b[K     |████████████████████████████████| 163 kB 8.1 MB/s \n",
            "\u001b[?25hCollecting tokenizers!=0.11.3,<0.14,>=0.11.1\n",
            "  Downloading tokenizers-0.13.1-cp37-cp37m-manylinux_2_17_x86_64.manylinux2014_x86_64.whl (7.6 MB)\n",
            "\u001b[K     |████████████████████████████████| 7.6 MB 65.1 MB/s \n",
            "\u001b[?25hRequirement already satisfied: numpy>=1.17 in /usr/local/lib/python3.7/dist-packages (from transformers==4.24.0.dev0) (1.21.6)\n",
            "Requirement already satisfied: typing-extensions>=3.7.4.3 in /usr/local/lib/python3.7/dist-packages (from huggingface-hub<1.0,>=0.10.0->transformers==4.24.0.dev0) (4.1.1)\n",
            "Requirement already satisfied: pyparsing!=3.0.5,>=2.0.2 in /usr/local/lib/python3.7/dist-packages (from packaging>=20.0->transformers==4.24.0.dev0) (3.0.9)\n",
            "Requirement already satisfied: zipp>=0.5 in /usr/local/lib/python3.7/dist-packages (from importlib-metadata->transformers==4.24.0.dev0) (3.9.0)\n",
            "Requirement already satisfied: idna<3,>=2.5 in /usr/local/lib/python3.7/dist-packages (from requests->transformers==4.24.0.dev0) (2.10)\n",
            "Requirement already satisfied: certifi>=2017.4.17 in /usr/local/lib/python3.7/dist-packages (from requests->transformers==4.24.0.dev0) (2022.9.24)\n",
            "Requirement already satisfied: urllib3!=1.25.0,!=1.25.1,<1.26,>=1.21.1 in /usr/local/lib/python3.7/dist-packages (from requests->transformers==4.24.0.dev0) (1.25.11)\n",
            "Requirement already satisfied: chardet<4,>=3.0.2 in /usr/local/lib/python3.7/dist-packages (from requests->transformers==4.24.0.dev0) (3.0.4)\n",
            "Building wheels for collected packages: transformers\n",
            "  Building wheel for transformers (PEP 517) ... \u001b[?25l\u001b[?25hdone\n",
            "  Created wheel for transformers: filename=transformers-4.24.0.dev0-py3-none-any.whl size=5424492 sha256=b2ba84b0b582d0632668d3a2867067f82a258bd61fdf9f4a34ebb4e34e232078\n",
            "  Stored in directory: /tmp/pip-ephem-wheel-cache-pzcfcyj9/wheels/35/2e/a7/d819e3310040329f0f47e57c9e3e7a7338aa5e74c49acfe522\n",
            "Successfully built transformers\n",
            "Installing collected packages: tokenizers, huggingface-hub, transformers\n",
            "Successfully installed huggingface-hub-0.10.1 tokenizers-0.13.1 transformers-4.24.0.dev0\n"
          ]
        }
      ]
    },
    {
      "cell_type": "code",
      "source": [
        "config = {\n",
        "    \"base_path\": \"drive/MyDrive/CS4248/MAMS-ATSA\",\n",
        "    \"mode\": \"term\",\n",
        "    \"glove_path\": \"drive/MyDrive/CS4248/glove.42B.300d.txt\",\n",
        "    \"sentiment_path\": \"drive/MyDrive/CS4248/sentiment_dict.json\",\n",
        "    \"max_vocab_size\": None,\n",
        "    \"min_vocab_freq\": 0,\n",
        "    \"lowercase\": True\n",
        "    }"
      ],
      "metadata": {
        "id": "iLtx0QCTZgdU"
      },
      "execution_count": 3,
      "outputs": []
    },
    {
      "cell_type": "code",
      "source": [
        "polarity_to_ids = {\"neutral\": 2, \"negative\": 1, \"positive\": 0}"
      ],
      "metadata": {
        "id": "hYCrAHn5guNT"
      },
      "execution_count": 4,
      "outputs": []
    },
    {
      "cell_type": "code",
      "source": [
        "def get_data(file_name):\n",
        "    path = config[\"base_path\"] + \"/raw/\" + file_name\n",
        "    tree = parse(path)\n",
        "    sentences = tree.getroot()\n",
        "    output = {\"sentences\": [], \"terms\": [], \"polarities\": []}\n",
        "    for sentence in sentences:\n",
        "        text = sentence.find('text')\n",
        "        if text is None:\n",
        "            continue\n",
        "\n",
        "        text = text.text\n",
        "        text = text.lower()\n",
        "        aspectTerms = sentence.find('aspectTerms')\n",
        "        if aspectTerms is None:\n",
        "            continue\n",
        "            \n",
        "        for aspectTerm in aspectTerms:\n",
        "            term = aspectTerm.get('term')\n",
        "            term = term.lower()\n",
        "            polarity = aspectTerm.get('polarity')\n",
        "            start = aspectTerm.get('from')\n",
        "            end = aspectTerm.get('to')\n",
        "            if polarity != \"conflict\":\n",
        "                output[\"sentences\"].append(\"[CLS] \" + text + \" [SEP] \" + term + \" [SEP]\")\n",
        "                output[\"terms\"].append(term)\n",
        "                output[\"polarities\"].append(polarity_to_ids[polarity])\n",
        "    return output"
      ],
      "metadata": {
        "id": "QxRRkaPTU33U"
      },
      "execution_count": 5,
      "outputs": []
    },
    {
      "cell_type": "code",
      "source": [
        "train_output = get_data(\"train.xml\")\n",
        "test_output = get_data(\"test.xml\")\n",
        "valid_output = get_data(\"val.xml\")"
      ],
      "metadata": {
        "id": "OK4zXFf2cO5c"
      },
      "execution_count": 6,
      "outputs": []
    },
    {
      "cell_type": "code",
      "source": [
        "train_labels = np.array(train_output[\"polarities\"])\n",
        "test_labels = np.array(test_output[\"polarities\"])\n",
        "valid_labels = np.array(valid_output[\"polarities\"])\n",
        "\n",
        "# train_labels = (train_output[\"polarities\"])\n",
        "# test_labels = (test_output[\"polarities\"])\n",
        "# valid_labels = (valid_output[\"polarities\"])"
      ],
      "metadata": {
        "id": "XGZzYRwIiFhz"
      },
      "execution_count": 7,
      "outputs": []
    },
    {
      "cell_type": "code",
      "source": [
        "sentences_train = train_output[\"sentences\"]\n",
        "sentences_test = test_output[\"sentences\"]\n",
        "sentences_valid = valid_output[\"sentences\"]\n",
        "\n",
        "tokenizer = BertTokenizer.from_pretrained('bert-base-uncased')\n",
        "tokenized_texts_train = [tokenizer.tokenize(sent) for sent in sentences_train]\n",
        "tokenized_texts_test = [tokenizer.tokenize(sent) for sent in sentences_test]\n",
        "tokenized_texts_valid = [tokenizer.tokenize(sent) for sent in sentences_valid]"
      ],
      "metadata": {
        "id": "LZ6BvhuYck5l",
        "colab": {
          "base_uri": "https://localhost:8080/"
        },
        "outputId": "3599fd4c-6290-4055-87d3-b3b7886704a0"
      },
      "execution_count": 8,
      "outputs": [
        {
          "output_type": "stream",
          "name": "stderr",
          "text": [
            "100%|██████████| 231508/231508 [00:00<00:00, 1273923.32B/s]\n"
          ]
        }
      ]
    },
    {
      "cell_type": "code",
      "source": [
        "max_token_length_train = max(map(lambda x: len(x), tokenized_texts_train))\n",
        "max_token_length_test = max(map(lambda x: len(x), tokenized_texts_test))\n",
        "max_token_length_valid = max(map(lambda x: len(x), tokenized_texts_valid))"
      ],
      "metadata": {
        "id": "jvaHSg7Nek36"
      },
      "execution_count": 9,
      "outputs": []
    },
    {
      "cell_type": "code",
      "source": [
        "print(\"Maximum number of tokens in each tweet from the training dataset is: \"+str(max_token_length_train))\n",
        "print(\"Maximum number of tokens in each tweet from the test dataset is: \"+str(max_token_length_test))\n",
        "print(\"Maximum number of tokens in each tweet from the validation dataset is: \"+str(max_token_length_valid))"
      ],
      "metadata": {
        "colab": {
          "base_uri": "https://localhost:8080/"
        },
        "id": "UbHyL_Zdfhmg",
        "outputId": "406e8997-f7f8-44d9-920e-a663f84fccd4"
      },
      "execution_count": 10,
      "outputs": [
        {
          "output_type": "stream",
          "name": "stdout",
          "text": [
            "Maximum number of tokens in each tweet from the training dataset is: 106\n",
            "Maximum number of tokens in each tweet from the test dataset is: 92\n",
            "Maximum number of tokens in each tweet from the validation dataset is: 81\n"
          ]
        }
      ]
    },
    {
      "cell_type": "code",
      "source": [
        "MAX_LEN = 110\n",
        "\n",
        "# Use the BERT tokenizer to convert the tokens to their index numbers in the BERT vocabulary\n",
        "input_ids_train = [tokenizer.convert_tokens_to_ids(x) for x in tokenized_texts_train]\n",
        "input_ids_train = np.array(pad_sequences(input_ids_train, maxlen=MAX_LEN, dtype=\"long\", truncating=\"post\", padding=\"post\"))\n",
        "\n",
        "input_ids_test = [tokenizer.convert_tokens_to_ids(x) for x in tokenized_texts_test]\n",
        "input_ids_test = np.array(pad_sequences(input_ids_test, maxlen=MAX_LEN, dtype=\"long\", truncating=\"post\", padding=\"post\"))\n",
        "\n",
        "input_ids_valid = [tokenizer.convert_tokens_to_ids(x) for x in tokenized_texts_valid]\n",
        "input_ids_valid = np.array(pad_sequences(input_ids_valid, maxlen=MAX_LEN, dtype=\"long\", truncating=\"post\", padding=\"post\"))"
      ],
      "metadata": {
        "id": "1iZ2YV79fi3o"
      },
      "execution_count": 11,
      "outputs": []
    },
    {
      "cell_type": "code",
      "source": [
        "sentences_train[:3]"
      ],
      "metadata": {
        "colab": {
          "base_uri": "https://localhost:8080/"
        },
        "id": "JJ2iBi53e0RE",
        "outputId": "f989c72a-f61d-462e-a6cd-5142be3741a4"
      },
      "execution_count": 12,
      "outputs": [
        {
          "output_type": "execute_result",
          "data": {
            "text/plain": [
              "['[CLS] the decor is not special at all but their food and amazing prices make up for it. [SEP] decor [SEP]',\n",
              " '[CLS] the decor is not special at all but their food and amazing prices make up for it. [SEP] food [SEP]',\n",
              " '[CLS] the decor is not special at all but their food and amazing prices make up for it. [SEP] prices [SEP]']"
            ]
          },
          "metadata": {},
          "execution_count": 12
        }
      ]
    },
    {
      "cell_type": "code",
      "source": [
        "# Add some regularization to the model to reduce overfitting\n",
        "configuration = BertConfig(hidden_dropout_prob = 0.15, num_labels = 3)\n",
        "\n",
        "# Load model from pretrained model/vocabulary\n",
        "model = TFBertForSequenceClassification.from_pretrained('bert-base-uncased', config=configuration)"
      ],
      "metadata": {
        "colab": {
          "base_uri": "https://localhost:8080/",
          "height": 118,
          "referenced_widgets": [
            "525b38961af94a91be21fe213d2d5370",
            "eed071ace6484b179b18d167ff870946",
            "8e47aa348e9245ceb79fff4e734d8745",
            "022f5d0d014d43cba261352cd42a23a0",
            "b91818d261044500a226c4062e1e997c",
            "850310d28fa3467aa07bd7a1afc26ad4",
            "23c30120d95d4ea3b731ad6d7df58dbf",
            "74335d891d33413a86968c4dc8473c7f",
            "ac3458e056b346568a85aa655083f29d",
            "efd7805660374ef3bc30af4c51b2aa32",
            "4874228a18054eddb0507a85cc51713a"
          ]
        },
        "id": "4rlStBmxhDMh",
        "outputId": "8484ef1f-cd30-43cf-f223-55f815223320"
      },
      "execution_count": 13,
      "outputs": [
        {
          "output_type": "display_data",
          "data": {
            "text/plain": [
              "Downloading:   0%|          | 0.00/536M [00:00<?, ?B/s]"
            ],
            "application/vnd.jupyter.widget-view+json": {
              "version_major": 2,
              "version_minor": 0,
              "model_id": "525b38961af94a91be21fe213d2d5370"
            }
          },
          "metadata": {}
        },
        {
          "output_type": "stream",
          "name": "stderr",
          "text": [
            "All model checkpoint layers were used when initializing TFBertForSequenceClassification.\n",
            "\n",
            "Some layers of TFBertForSequenceClassification were not initialized from the model checkpoint at bert-base-uncased and are newly initialized: ['classifier']\n",
            "You should probably TRAIN this model on a down-stream task to be able to use it for predictions and inference.\n"
          ]
        }
      ]
    },
    {
      "cell_type": "code",
      "source": [
        "# Prepare training: \n",
        "# -. Compile tf.keras model with loss and learning rate schedule \n",
        "# -. Use AdamWeightDecay as the optimizer\n",
        "\n",
        "with tf.device('/device:GPU:0'):\n",
        "  optimizer = AdamWeightDecay(learning_rate=3e-05, epsilon=1e-08, clipnorm=1.0)\n",
        "  loss = tf.keras.losses.SparseCategoricalCrossentropy(from_logits=True)\n",
        "  metric = tf.keras.metrics.SparseCategoricalAccuracy('accuracy')\n",
        "  model.compile(optimizer=optimizer, loss=loss, metrics=[metric])"
      ],
      "metadata": {
        "id": "L0rszm9IhJQC"
      },
      "execution_count": 14,
      "outputs": []
    },
    {
      "cell_type": "code",
      "source": [
        "# Check the configuration of the model\n",
        "\n",
        "configuration = model.config\n",
        "configuration"
      ],
      "metadata": {
        "colab": {
          "base_uri": "https://localhost:8080/"
        },
        "id": "gLjx_NKXhSm8",
        "outputId": "3bbd8ad5-e1c7-4297-809e-55c401e7745f"
      },
      "execution_count": 15,
      "outputs": [
        {
          "output_type": "execute_result",
          "data": {
            "text/plain": [
              "BertConfig {\n",
              "  \"_name_or_path\": \"bert-base-uncased\",\n",
              "  \"attention_probs_dropout_prob\": 0.1,\n",
              "  \"classifier_dropout\": null,\n",
              "  \"hidden_act\": \"gelu\",\n",
              "  \"hidden_dropout_prob\": 0.15,\n",
              "  \"hidden_size\": 768,\n",
              "  \"id2label\": {\n",
              "    \"0\": \"LABEL_0\",\n",
              "    \"1\": \"LABEL_1\",\n",
              "    \"2\": \"LABEL_2\"\n",
              "  },\n",
              "  \"initializer_range\": 0.02,\n",
              "  \"intermediate_size\": 3072,\n",
              "  \"label2id\": {\n",
              "    \"LABEL_0\": 0,\n",
              "    \"LABEL_1\": 1,\n",
              "    \"LABEL_2\": 2\n",
              "  },\n",
              "  \"layer_norm_eps\": 1e-12,\n",
              "  \"max_position_embeddings\": 512,\n",
              "  \"model_type\": \"bert\",\n",
              "  \"num_attention_heads\": 12,\n",
              "  \"num_hidden_layers\": 12,\n",
              "  \"pad_token_id\": 0,\n",
              "  \"position_embedding_type\": \"absolute\",\n",
              "  \"transformers_version\": \"4.24.0.dev0\",\n",
              "  \"type_vocab_size\": 2,\n",
              "  \"use_cache\": true,\n",
              "  \"vocab_size\": 30522\n",
              "}"
            ]
          },
          "metadata": {},
          "execution_count": 15
        }
      ]
    },
    {
      "cell_type": "code",
      "source": [
        "# Here's the summary of the model\n",
        "\n",
        "model.summary()"
      ],
      "metadata": {
        "colab": {
          "base_uri": "https://localhost:8080/"
        },
        "id": "VCplyWn_hs26",
        "outputId": "509107f4-ba1e-4468-f31d-e358860053bc"
      },
      "execution_count": 16,
      "outputs": [
        {
          "output_type": "stream",
          "name": "stdout",
          "text": [
            "Model: \"tf_bert_for_sequence_classification\"\n",
            "_________________________________________________________________\n",
            " Layer (type)                Output Shape              Param #   \n",
            "=================================================================\n",
            " bert (TFBertMainLayer)      multiple                  109482240 \n",
            "                                                                 \n",
            " dropout_37 (Dropout)        multiple                  0         \n",
            "                                                                 \n",
            " classifier (Dense)          multiple                  2307      \n",
            "                                                                 \n",
            "=================================================================\n",
            "Total params: 109,484,547\n",
            "Trainable params: 109,484,547\n",
            "Non-trainable params: 0\n",
            "_________________________________________________________________\n"
          ]
        }
      ]
    },
    {
      "cell_type": "code",
      "source": [
        "# BERT can be easily overfitted, due to its model complexity.\n",
        "# So in this case, the model is trained with 5 epochs only. \n",
        "# import os\n",
        "\n",
        "# checkpoint_path = \"training_1/cp.ckpt\"\n",
        "# checkpoint_dir = os.path.dirname(checkpoint_path)\n",
        "\n",
        "callback_1 = tf.keras.callbacks.EarlyStopping(monitor='val_accuracy', patience=3)\n",
        "# callback_2 = tf.keras.callbacks.ModelCheckpoint(filepath=checkpoint_path,\n",
        "#                                                  save_weights_only=True,\n",
        "#                                                  verbose=1)\n",
        "\n",
        "history = model.fit(x=input_ids_train, y=train_labels, validation_data = (input_ids_valid, valid_labels), callbacks=[callback_1], epochs = 5, batch_size=32)"
      ],
      "metadata": {
        "colab": {
          "base_uri": "https://localhost:8080/"
        },
        "id": "ZvvyH_iBhvdT",
        "outputId": "1eb60a62-4fca-476e-de8c-442c72f7c060"
      },
      "execution_count": 17,
      "outputs": [
        {
          "output_type": "stream",
          "name": "stdout",
          "text": [
            "Epoch 1/5\n",
            "350/350 [==============================] - 287s 754ms/step - loss: 0.8600 - accuracy: 0.5749 - val_loss: 0.5441 - val_accuracy: 0.7793\n",
            "Epoch 2/5\n",
            "350/350 [==============================] - 264s 754ms/step - loss: 0.4570 - accuracy: 0.8194 - val_loss: 0.4940 - val_accuracy: 0.8161\n",
            "Epoch 3/5\n",
            "350/350 [==============================] - 264s 754ms/step - loss: 0.2903 - accuracy: 0.8908 - val_loss: 0.5094 - val_accuracy: 0.8318\n",
            "Epoch 4/5\n",
            "350/350 [==============================] - 264s 754ms/step - loss: 0.1755 - accuracy: 0.9382 - val_loss: 0.5597 - val_accuracy: 0.8198\n",
            "Epoch 5/5\n",
            "350/350 [==============================] - 264s 755ms/step - loss: 0.1047 - accuracy: 0.9640 - val_loss: 0.6510 - val_accuracy: 0.8228\n"
          ]
        }
      ]
    },
    {
      "cell_type": "code",
      "source": [
        "results = model.evaluate(input_ids_test, test_labels, batch_size = 32)"
      ],
      "metadata": {
        "colab": {
          "base_uri": "https://localhost:8080/"
        },
        "id": "pBwxF0ySjZV3",
        "outputId": "26882024-81ba-47e3-cf3a-f8c8c37c2b30"
      },
      "execution_count": 18,
      "outputs": [
        {
          "output_type": "stream",
          "name": "stdout",
          "text": [
            "42/42 [==============================] - 10s 242ms/step - loss: 0.6294 - accuracy: 0.8496\n"
          ]
        }
      ]
    },
    {
      "cell_type": "code",
      "source": [
        "results"
      ],
      "metadata": {
        "colab": {
          "base_uri": "https://localhost:8080/"
        },
        "id": "YCloWVynjftn",
        "outputId": "e1ed7052-d450-452a-d38f-b3d70fdd4639"
      },
      "execution_count": 19,
      "outputs": [
        {
          "output_type": "execute_result",
          "data": {
            "text/plain": [
              "[0.6293606162071228, 0.8495509028434753]"
            ]
          },
          "metadata": {},
          "execution_count": 19
        }
      ]
    },
    {
      "cell_type": "code",
      "source": [
        "prediction = model.predict(input_ids_test).logits"
      ],
      "metadata": {
        "colab": {
          "base_uri": "https://localhost:8080/"
        },
        "id": "tH9WWcCijrxP",
        "outputId": "d41c28c7-9bdb-448f-e764-ef2b61a72793"
      },
      "execution_count": 20,
      "outputs": [
        {
          "output_type": "stream",
          "name": "stdout",
          "text": [
            "42/42 [==============================] - 13s 238ms/step\n"
          ]
        }
      ]
    },
    {
      "cell_type": "code",
      "source": [
        "prediction"
      ],
      "metadata": {
        "colab": {
          "base_uri": "https://localhost:8080/"
        },
        "id": "2lGG3XCvj3hn",
        "outputId": "5f5455e0-fd35-44b8-ccc9-fc758b70e879"
      },
      "execution_count": 21,
      "outputs": [
        {
          "output_type": "execute_result",
          "data": {
            "text/plain": [
              "array([[ 2.7374866 , -2.91062   ,  0.5043101 ],\n",
              "       [ 4.280576  , -2.0481606 , -1.8416067 ],\n",
              "       [ 4.3185024 , -2.7293417 , -1.1670192 ],\n",
              "       ...,\n",
              "       [-2.1732464 , -2.7618546 ,  4.773845  ],\n",
              "       [-1.8557916 ,  4.427856  , -3.1712909 ],\n",
              "       [ 0.55619574,  1.2625098 , -2.1259322 ]], dtype=float32)"
            ]
          },
          "metadata": {},
          "execution_count": 21
        }
      ]
    },
    {
      "cell_type": "code",
      "source": [
        "final_prediction = []\n",
        "\n",
        "for i in range(len(prediction)):\n",
        "  final_prediction.append(np.argmax(prediction[i]))\n",
        "\n",
        "print(final_prediction)"
      ],
      "metadata": {
        "colab": {
          "base_uri": "https://localhost:8080/"
        },
        "id": "29AA4eRTjysV",
        "outputId": "9a5b78c4-dba6-489c-e2fd-75c0cf7b4122"
      },
      "execution_count": 22,
      "outputs": [
        {
          "output_type": "stream",
          "name": "stdout",
          "text": [
            "[0, 0, 0, 1, 1, 2, 0, 2, 1, 2, 2, 0, 0, 1, 0, 0, 1, 2, 0, 0, 0, 0, 2, 2, 2, 2, 2, 0, 0, 2, 1, 0, 2, 2, 0, 0, 2, 2, 0, 0, 2, 1, 2, 2, 1, 1, 2, 2, 0, 0, 2, 1, 1, 1, 0, 0, 0, 2, 0, 2, 0, 0, 2, 2, 2, 1, 2, 0, 0, 0, 1, 0, 2, 2, 2, 0, 2, 0, 0, 0, 0, 0, 2, 0, 0, 1, 2, 1, 0, 1, 2, 2, 1, 2, 1, 2, 1, 0, 2, 0, 0, 2, 2, 2, 1, 1, 2, 0, 1, 2, 2, 0, 2, 0, 2, 1, 2, 0, 2, 1, 1, 2, 0, 1, 2, 2, 2, 2, 1, 2, 0, 2, 0, 1, 2, 2, 1, 1, 2, 0, 1, 0, 0, 1, 2, 1, 0, 1, 0, 2, 1, 2, 1, 0, 2, 2, 0, 2, 0, 1, 2, 2, 2, 2, 2, 2, 1, 2, 1, 1, 0, 2, 0, 0, 1, 1, 2, 2, 1, 2, 0, 1, 1, 2, 2, 2, 0, 0, 0, 1, 0, 1, 0, 2, 1, 2, 0, 2, 1, 0, 1, 2, 1, 2, 1, 1, 0, 1, 0, 1, 0, 0, 2, 2, 0, 2, 0, 0, 1, 1, 0, 0, 1, 1, 2, 1, 2, 1, 2, 1, 2, 2, 0, 0, 1, 2, 0, 0, 2, 0, 2, 2, 1, 0, 0, 2, 2, 2, 0, 1, 2, 0, 2, 2, 0, 1, 2, 1, 0, 2, 1, 2, 0, 0, 2, 0, 1, 0, 0, 2, 0, 0, 2, 2, 0, 2, 2, 1, 1, 1, 2, 1, 2, 2, 0, 0, 2, 0, 2, 0, 2, 2, 2, 0, 1, 2, 0, 0, 1, 0, 2, 1, 2, 0, 0, 0, 1, 2, 1, 2, 0, 2, 0, 0, 2, 2, 0, 0, 0, 1, 2, 2, 1, 1, 2, 2, 1, 2, 2, 2, 2, 2, 1, 2, 0, 2, 1, 0, 2, 1, 2, 1, 1, 2, 1, 2, 1, 1, 0, 2, 2, 0, 0, 2, 0, 0, 0, 1, 0, 1, 2, 1, 2, 1, 2, 0, 2, 0, 2, 0, 2, 1, 1, 0, 1, 2, 1, 0, 1, 2, 2, 2, 0, 0, 2, 1, 0, 2, 1, 1, 2, 1, 2, 0, 1, 2, 0, 1, 2, 2, 2, 1, 1, 0, 1, 2, 1, 2, 2, 0, 2, 0, 1, 2, 2, 2, 1, 0, 2, 2, 2, 0, 2, 2, 2, 2, 1, 2, 2, 0, 2, 2, 1, 2, 1, 2, 2, 1, 0, 2, 1, 2, 2, 1, 2, 2, 0, 2, 1, 2, 2, 1, 2, 0, 0, 0, 2, 2, 0, 2, 0, 2, 2, 1, 2, 2, 0, 1, 1, 2, 2, 2, 1, 2, 0, 2, 0, 0, 1, 2, 2, 1, 1, 2, 1, 2, 2, 2, 2, 0, 0, 0, 2, 2, 2, 2, 1, 2, 2, 1, 2, 1, 1, 2, 2, 2, 1, 0, 2, 1, 2, 2, 2, 1, 2, 1, 1, 2, 2, 2, 0, 2, 1, 1, 0, 2, 2, 0, 0, 2, 2, 0, 0, 2, 2, 1, 2, 0, 2, 0, 2, 0, 0, 2, 1, 0, 2, 1, 1, 2, 2, 0, 0, 2, 2, 2, 1, 2, 1, 2, 2, 0, 2, 0, 1, 2, 2, 2, 0, 2, 0, 2, 0, 0, 0, 2, 0, 2, 2, 2, 2, 0, 0, 1, 0, 0, 2, 2, 1, 1, 0, 2, 2, 1, 0, 2, 2, 0, 0, 0, 2, 2, 0, 1, 0, 0, 2, 2, 2, 2, 0, 2, 2, 0, 0, 1, 2, 2, 1, 0, 2, 0, 0, 2, 1, 0, 0, 1, 2, 0, 0, 2, 2, 0, 2, 2, 0, 0, 2, 0, 2, 2, 0, 2, 1, 2, 1, 0, 0, 0, 2, 1, 2, 2, 2, 1, 2, 0, 1, 2, 1, 0, 2, 1, 2, 0, 0, 0, 2, 2, 1, 1, 1, 2, 2, 1, 1, 2, 1, 1, 2, 2, 0, 0, 2, 2, 1, 2, 0, 2, 0, 0, 0, 0, 2, 2, 2, 1, 2, 1, 1, 0, 0, 0, 0, 0, 0, 1, 1, 0, 1, 2, 0, 0, 0, 1, 2, 0, 2, 2, 2, 1, 2, 2, 2, 0, 0, 1, 2, 2, 0, 1, 2, 1, 0, 0, 2, 2, 0, 0, 0, 0, 1, 1, 2, 2, 2, 1, 2, 2, 0, 0, 2, 2, 0, 1, 2, 2, 0, 0, 2, 0, 2, 2, 2, 2, 0, 2, 1, 2, 0, 0, 1, 1, 2, 0, 1, 2, 2, 1, 2, 2, 2, 2, 1, 2, 2, 1, 2, 1, 0, 0, 1, 1, 2, 2, 2, 1, 2, 0, 0, 0, 1, 2, 0, 2, 0, 2, 1, 0, 2, 2, 2, 1, 1, 2, 2, 0, 0, 0, 0, 1, 2, 2, 2, 2, 2, 0, 0, 0, 0, 0, 0, 2, 2, 0, 1, 2, 1, 0, 2, 1, 2, 1, 1, 1, 2, 2, 2, 0, 2, 2, 1, 0, 2, 0, 0, 2, 0, 2, 2, 1, 2, 0, 1, 2, 0, 1, 2, 2, 0, 1, 2, 2, 0, 2, 0, 2, 1, 1, 2, 1, 2, 2, 2, 1, 1, 2, 0, 0, 2, 0, 1, 2, 2, 1, 2, 0, 2, 1, 2, 2, 0, 0, 2, 2, 0, 2, 2, 2, 2, 0, 0, 1, 2, 0, 1, 2, 1, 1, 2, 0, 1, 2, 0, 1, 0, 1, 0, 2, 0, 0, 2, 2, 2, 0, 0, 1, 1, 2, 0, 1, 2, 2, 0, 0, 2, 1, 2, 2, 2, 1, 1, 2, 0, 2, 1, 0, 0, 1, 2, 0, 2, 1, 0, 0, 2, 2, 2, 0, 1, 2, 1, 2, 2, 1, 2, 2, 2, 0, 0, 1, 2, 1, 2, 1, 0, 1, 2, 1, 2, 2, 1, 2, 0, 2, 1, 2, 0, 1, 2, 2, 2, 1, 1, 2, 1, 2, 2, 2, 0, 2, 2, 1, 2, 0, 1, 2, 2, 1, 2, 1, 2, 0, 1, 1, 0, 0, 1, 0, 0, 2, 0, 2, 0, 0, 1, 1, 2, 0, 0, 1, 2, 2, 0, 0, 0, 1, 2, 1, 1, 2, 1, 2, 1, 1, 2, 1, 0, 0, 2, 2, 0, 2, 0, 0, 2, 0, 1, 1, 2, 2, 1, 1, 0, 0, 1, 1, 2, 1, 1, 0, 0, 2, 2, 2, 1, 1, 0, 1, 1, 2, 0, 1, 2, 2, 2, 2, 2, 2, 0, 0, 2, 0, 0, 0, 2, 0, 2, 1, 0, 0, 1, 2, 1, 2, 0, 1, 2, 2, 0, 1, 2, 1, 0, 2, 1, 1, 2, 1, 2, 0, 0, 2, 0, 0, 2, 1, 2, 0, 2, 1, 2, 1, 2, 2, 0, 0, 2, 0, 0, 0, 0, 2, 1, 0, 2, 2, 2, 2, 1, 1, 1, 1, 0, 1, 2, 1, 1, 2, 1, 0, 2, 0, 1, 1, 2, 2, 0, 1, 2, 2, 0, 2, 1, 2, 2, 2, 0, 2, 2, 2, 0, 0, 1, 2, 0, 1, 0, 2, 1, 1, 2, 0, 0, 2, 1, 1, 2, 0, 0, 2, 2, 2, 0, 0, 2, 2, 1, 0, 2, 1, 2, 1, 0, 0, 1, 1, 0, 2, 2, 0, 0, 2, 2, 0, 2, 2, 2, 0, 0, 2, 1, 2, 1, 2, 2, 2, 1, 1, 2, 2, 2, 0, 2, 2, 2, 2, 2, 0, 0, 2, 1, 2, 1, 0, 2, 2, 0, 2, 1, 2, 1, 2, 0, 0, 2, 2, 0, 0, 0, 2, 0, 0, 2, 0, 0, 2, 1, 2, 0, 2, 1, 2, 2, 0, 1, 0, 1, 2, 2, 1, 2, 0, 1, 0, 0, 1, 1, 1, 2, 1, 2, 0, 1, 1, 2, 2, 1, 2, 2, 1, 1, 2, 1, 2, 2, 0, 2, 2, 0, 0, 2, 2, 1, 1]\n"
          ]
        }
      ]
    },
    {
      "cell_type": "code",
      "source": [
        "confusion_matrix(test_labels, final_prediction)"
      ],
      "metadata": {
        "colab": {
          "base_uri": "https://localhost:8080/"
        },
        "id": "7S6KMW6ClZrB",
        "outputId": "5b701ac0-c3ec-45f9-80ad-3827cb0e6ce8"
      },
      "execution_count": 23,
      "outputs": [
        {
          "output_type": "execute_result",
          "data": {
            "text/plain": [
              "array([[340,  24,  36],\n",
              "       [ 23, 276,  30],\n",
              "       [ 46,  42, 519]])"
            ]
          },
          "metadata": {},
          "execution_count": 23
        }
      ]
    },
    {
      "cell_type": "code",
      "source": [
        "losses = history.history['loss']\n",
        "accs = history.history['accuracy']\n",
        "val_losses = history.history['val_loss']\n",
        "val_accs = history.history['val_accuracy']\n",
        "epochs = len(losses)\n",
        "\n",
        "plt.figure(figsize=(12, 4))\n",
        "for i, metrics in enumerate(zip([losses, accs], [val_losses, val_accs], ['Loss', 'Accuracy'])):\n",
        "  plt.subplot(1, 2, i + 1)\n",
        "  plt.plot(range(epochs), metrics[0], label='Training {}'.format(metrics[2]))\n",
        "  plt.plot(range(epochs), metrics[1], label='Validation {}'.format(metrics[2]))\n",
        "  plt.legend()\n",
        "plt.show()\n",
        "plt.savefig('bert_accuracy.png')"
      ],
      "metadata": {
        "id": "Jh1ZAXtYh3fc",
        "colab": {
          "base_uri": "https://localhost:8080/",
          "height": 282
        },
        "outputId": "6be07125-c9ce-42b2-e7b9-c48b2c679b9d"
      },
      "execution_count": 24,
      "outputs": [
        {
          "output_type": "display_data",
          "data": {
            "text/plain": [
              "<Figure size 864x288 with 2 Axes>"
            ],
            "image/png": "[encoded data removed]"
          },
          "metadata": {
            "needs_background": "light"
          }
        },
        {
          "output_type": "display_data",
          "data": {
            "text/plain": [
              "<Figure size 432x288 with 0 Axes>"
            ]
          },
          "metadata": {}
        }
      ]
    }
  ],
  "metadata": {
    "accelerator": "GPU",
    "colab": {
      "collapsed_sections": [],
      "provenance": []
    },
    "kernelspec": {
      "display_name": "Python 3.8.13 ('CS4248-project')",
      "language": "python",
      "name": "python3"
    },
    "language_info": {
      "codemirror_mode": {
        "name": "ipython",
        "version": 3
      },
      "file_extension": ".py",
      "mimetype": "text/x-python",
      "name": "python",
      "nbconvert_exporter": "python",
      "pygments_lexer": "ipython3",
      "version": "3.8.13"
    },
    "vscode": {
      "interpreter": {
        "hash": "acc163ef47be86fb239cdb7a5b440891b3a074f9418fa7049e8ce9b17a74f46c"
      }
    },
    "widgets": {
      "application/vnd.jupyter.widget-state+json": {
        "525b38961af94a91be21fe213d2d5370": {
          "model_module": "@jupyter-widgets/controls",
          "model_name": "HBoxModel",
          "model_module_version": "1.5.0",
          "state": {
            "_dom_classes": [],
            "_model_module": "@jupyter-widgets/controls",
            "_model_module_version": "1.5.0",
            "_model_name": "HBoxModel",
            "_view_count": null,
            "_view_module": "@jupyter-widgets/controls",
            "_view_module_version": "1.5.0",
            "_view_name": "HBoxView",
            "box_style": "",
            "children": [
              "IPY_MODEL_eed071ace6484b179b18d167ff870946",
              "IPY_MODEL_8e47aa348e9245ceb79fff4e734d8745",
              "IPY_MODEL_022f5d0d014d43cba261352cd42a23a0"
            ],
            "layout": "IPY_MODEL_b91818d261044500a226c4062e1e997c"
          }
        },
        "eed071ace6484b179b18d167ff870946": {
          "model_module": "@jupyter-widgets/controls",
          "model_name": "HTMLModel",
          "model_module_version": "1.5.0",
          "state": {
            "_dom_classes": [],
            "_model_module": "@jupyter-widgets/controls",
            "_model_module_version": "1.5.0",
            "_model_name": "HTMLModel",
            "_view_count": null,
            "_view_module": "@jupyter-widgets/controls",
            "_view_module_version": "1.5.0",
            "_view_name": "HTMLView",
            "description": "",
            "description_tooltip": null,
            "layout": "IPY_MODEL_850310d28fa3467aa07bd7a1afc26ad4",
            "placeholder": "​",
            "style": "IPY_MODEL_23c30120d95d4ea3b731ad6d7df58dbf",
            "value": "Downloading: 100%"
          }
        },
        "8e47aa348e9245ceb79fff4e734d8745": {
          "model_module": "@jupyter-widgets/controls",
          "model_name": "FloatProgressModel",
          "model_module_version": "1.5.0",
          "state": {
            "_dom_classes": [],
            "_model_module": "@jupyter-widgets/controls",
            "_model_module_version": "1.5.0",
            "_model_name": "FloatProgressModel",
            "_view_count": null,
            "_view_module": "@jupyter-widgets/controls",
            "_view_module_version": "1.5.0",
            "_view_name": "ProgressView",
            "bar_style": "success",
            "description": "",
            "description_tooltip": null,
            "layout": "IPY_MODEL_74335d891d33413a86968c4dc8473c7f",
            "max": 536063208,
            "min": 0,
            "orientation": "horizontal",
            "style": "IPY_MODEL_ac3458e056b346568a85aa655083f29d",
            "value": 536063208
          }
        },
        "022f5d0d014d43cba261352cd42a23a0": {
          "model_module": "@jupyter-widgets/controls",
          "model_name": "HTMLModel",
          "model_module_version": "1.5.0",
          "state": {
            "_dom_classes": [],
            "_model_module": "@jupyter-widgets/controls",
            "_model_module_version": "1.5.0",
            "_model_name": "HTMLModel",
            "_view_count": null,
            "_view_module": "@jupyter-widgets/controls",
            "_view_module_version": "1.5.0",
            "_view_name": "HTMLView",
            "description": "",
            "description_tooltip": null,
            "layout": "IPY_MODEL_efd7805660374ef3bc30af4c51b2aa32",
            "placeholder": "​",
            "style": "IPY_MODEL_4874228a18054eddb0507a85cc51713a",
            "value": " 536M/536M [00:15&lt;00:00, 58.4MB/s]"
          }
        },
        "b91818d261044500a226c4062e1e997c": {
          "model_module": "@jupyter-widgets/base",
          "model_name": "LayoutModel",
          "model_module_version": "1.2.0",
          "state": {
            "_model_module": "@jupyter-widgets/base",
            "_model_module_version": "1.2.0",
            "_model_name": "LayoutModel",
            "_view_count": null,
            "_view_module": "@jupyter-widgets/base",
            "_view_module_version": "1.2.0",
            "_view_name": "LayoutView",
            "align_content": null,
            "align_items": null,
            "align_self": null,
            "border": null,
            "bottom": null,
            "display": null,
            "flex": null,
            "flex_flow": null,
            "grid_area": null,
            "grid_auto_columns": null,
            "grid_auto_flow": null,
            "grid_auto_rows": null,
            "grid_column": null,
            "grid_gap": null,
            "grid_row": null,
            "grid_template_areas": null,
            "grid_template_columns": null,
            "grid_template_rows": null,
            "height": null,
            "justify_content": null,
            "justify_items": null,
            "left": null,
            "margin": null,
            "max_height": null,
            "max_width": null,
            "min_height": null,
            "min_width": null,
            "object_fit": null,
            "object_position": null,
            "order": null,
            "overflow": null,
            "overflow_x": null,
            "overflow_y": null,
            "padding": null,
            "right": null,
            "top": null,
            "visibility": null,
            "width": null
          }
        },
        "850310d28fa3467aa07bd7a1afc26ad4": {
          "model_module": "@jupyter-widgets/base",
          "model_name": "LayoutModel",
          "model_module_version": "1.2.0",
          "state": {
            "_model_module": "@jupyter-widgets/base",
            "_model_module_version": "1.2.0",
            "_model_name": "LayoutModel",
            "_view_count": null,
            "_view_module": "@jupyter-widgets/base",
            "_view_module_version": "1.2.0",
            "_view_name": "LayoutView",
            "align_content": null,
            "align_items": null,
            "align_self": null,
            "border": null,
            "bottom": null,
            "display": null,
            "flex": null,
            "flex_flow": null,
            "grid_area": null,
            "grid_auto_columns": null,
            "grid_auto_flow": null,
            "grid_auto_rows": null,
            "grid_column": null,
            "grid_gap": null,
            "grid_row": null,
            "grid_template_areas": null,
            "grid_template_columns": null,
            "grid_template_rows": null,
            "height": null,
            "justify_content": null,
            "justify_items": null,
            "left": null,
            "margin": null,
            "max_height": null,
            "max_width": null,
            "min_height": null,
            "min_width": null,
            "object_fit": null,
            "object_position": null,
            "order": null,
            "overflow": null,
            "overflow_x": null,
            "overflow_y": null,
            "padding": null,
            "right": null,
            "top": null,
            "visibility": null,
            "width": null
          }
        },
        "23c30120d95d4ea3b731ad6d7df58dbf": {
          "model_module": "@jupyter-widgets/controls",
          "model_name": "DescriptionStyleModel",
          "model_module_version": "1.5.0",
          "state": {
            "_model_module": "@jupyter-widgets/controls",
            "_model_module_version": "1.5.0",
            "_model_name": "DescriptionStyleModel",
            "_view_count": null,
            "_view_module": "@jupyter-widgets/base",
            "_view_module_version": "1.2.0",
            "_view_name": "StyleView",
            "description_width": ""
          }
        },
        "74335d891d33413a86968c4dc8473c7f": {
          "model_module": "@jupyter-widgets/base",
          "model_name": "LayoutModel",
          "model_module_version": "1.2.0",
          "state": {
            "_model_module": "@jupyter-widgets/base",
            "_model_module_version": "1.2.0",
            "_model_name": "LayoutModel",
            "_view_count": null,
            "_view_module": "@jupyter-widgets/base",
            "_view_module_version": "1.2.0",
            "_view_name": "LayoutView",
            "align_content": null,
            "align_items": null,
            "align_self": null,
            "border": null,
            "bottom": null,
            "display": null,
            "flex": null,
            "flex_flow": null,
            "grid_area": null,
            "grid_auto_columns": null,
            "grid_auto_flow": null,
            "grid_auto_rows": null,
            "grid_column": null,
            "grid_gap": null,
            "grid_row": null,
            "grid_template_areas": null,
            "grid_template_columns": null,
            "grid_template_rows": null,
            "height": null,
            "justify_content": null,
            "justify_items": null,
            "left": null,
            "margin": null,
            "max_height": null,
            "max_width": null,
            "min_height": null,
            "min_width": null,
            "object_fit": null,
            "object_position": null,
            "order": null,
            "overflow": null,
            "overflow_x": null,
            "overflow_y": null,
            "padding": null,
            "right": null,
            "top": null,
            "visibility": null,
            "width": null
          }
        },
        "ac3458e056b346568a85aa655083f29d": {
          "model_module": "@jupyter-widgets/controls",
          "model_name": "ProgressStyleModel",
          "model_module_version": "1.5.0",
          "state": {
            "_model_module": "@jupyter-widgets/controls",
            "_model_module_version": "1.5.0",
            "_model_name": "ProgressStyleModel",
            "_view_count": null,
            "_view_module": "@jupyter-widgets/base",
            "_view_module_version": "1.2.0",
            "_view_name": "StyleView",
            "bar_color": null,
            "description_width": ""
          }
        },
        "efd7805660374ef3bc30af4c51b2aa32": {
          "model_module": "@jupyter-widgets/base",
          "model_name": "LayoutModel",
          "model_module_version": "1.2.0",
          "state": {
            "_model_module": "@jupyter-widgets/base",
            "_model_module_version": "1.2.0",
            "_model_name": "LayoutModel",
            "_view_count": null,
            "_view_module": "@jupyter-widgets/base",
            "_view_module_version": "1.2.0",
            "_view_name": "LayoutView",
            "align_content": null,
            "align_items": null,
            "align_self": null,
            "border": null,
            "bottom": null,
            "display": null,
            "flex": null,
            "flex_flow": null,
            "grid_area": null,
            "grid_auto_columns": null,
            "grid_auto_flow": null,
            "grid_auto_rows": null,
            "grid_column": null,
            "grid_gap": null,
            "grid_row": null,
            "grid_template_areas": null,
            "grid_template_columns": null,
            "grid_template_rows": null,
            "height": null,
            "justify_content": null,
            "justify_items": null,
            "left": null,
            "margin": null,
            "max_height": null,
            "max_width": null,
            "min_height": null,
            "min_width": null,
            "object_fit": null,
            "object_position": null,
            "order": null,
            "overflow": null,
            "overflow_x": null,
            "overflow_y": null,
            "padding": null,
            "right": null,
            "top": null,
            "visibility": null,
            "width": null
          }
        },
        "4874228a18054eddb0507a85cc51713a": {
          "model_module": "@jupyter-widgets/controls",
          "model_name": "DescriptionStyleModel",
          "model_module_version": "1.5.0",
          "state": {
            "_model_module": "@jupyter-widgets/controls",
            "_model_module_version": "1.5.0",
            "_model_name": "DescriptionStyleModel",
            "_view_count": null,
            "_view_module": "@jupyter-widgets/base",
            "_view_module_version": "1.2.0",
            "_view_name": "StyleView",
            "description_width": ""
          }
        }
      }
    }
  },
  "nbformat": 4,
  "nbformat_minor": 0
}