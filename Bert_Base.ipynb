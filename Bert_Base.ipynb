{
  "cells": [
    {
      "cell_type": "code",
      "execution_count": 1,
      "metadata": {
        "colab": {
          "base_uri": "https://localhost:8080/"
        },
        "id": "thkmr3cIgUUf",
        "outputId": "8fab257b-cc6d-4160-8bcc-b718d371cfbd"
      },
      "outputs": [
        {
          "output_type": "stream",
          "name": "stdout",
          "text": [
            "Mounted at /content/drive\n"
          ]
        }
      ],
      "source": [
        "from google.colab import drive\n",
        "drive.mount('/content/drive')"
      ]
    },
    {
      "cell_type": "code",
      "source": [
        "!pip install pytorch_pretrained_bert\n",
        "!pip install git+https://github.com/huggingface/transformers\n",
        "\n",
        "from transformers import TFBertForSequenceClassification, BertTokenizer, BertConfig, AdamWeightDecay\n",
        "from sklearn.metrics import confusion_matrix\n",
        "from xml.etree.ElementTree import parse\n",
        "from pytorch_pretrained_bert import BertModel, BertTokenizer\n",
        "from keras_preprocessing.sequence import pad_sequences\n",
        "import tensorflow as tf\n",
        "import numpy as np\n",
        "import matplotlib.pyplot as plt\n",
        "import pandas as pd\n",
        "import seaborn as sns"
      ],
      "metadata": {
        "colab": {
          "base_uri": "https://localhost:8080/"
        },
        "id": "clsKRxBbgCzN",
        "outputId": "04c3ee74-bcc6-4649-a6f6-c3e7533d5fab"
      },
      "execution_count": 2,
      "outputs": [
        {
          "output_type": "stream",
          "name": "stdout",
          "text": [
            "Looking in indexes: https://pypi.org/simple, https://us-python.pkg.dev/colab-wheels/public/simple/\n",
            "Collecting pytorch_pretrained_bert\n",
            "  Downloading pytorch_pretrained_bert-0.6.2-py3-none-any.whl (123 kB)\n",
            "\u001b[K     |████████████████████████████████| 123 kB 6.5 MB/s \n",
            "\u001b[?25hRequirement already satisfied: tqdm in /usr/local/lib/python3.7/dist-packages (from pytorch_pretrained_bert) (4.64.1)\n",
            "Requirement already satisfied: regex in /usr/local/lib/python3.7/dist-packages (from pytorch_pretrained_bert) (2022.6.2)\n",
            "Requirement already satisfied: requests in /usr/local/lib/python3.7/dist-packages (from pytorch_pretrained_bert) (2.23.0)\n",
            "Requirement already satisfied: torch>=0.4.1 in /usr/local/lib/python3.7/dist-packages (from pytorch_pretrained_bert) (1.12.1+cu113)\n",
            "Requirement already satisfied: numpy in /usr/local/lib/python3.7/dist-packages (from pytorch_pretrained_bert) (1.21.6)\n",
            "Collecting boto3\n",
            "  Downloading boto3-1.26.3-py3-none-any.whl (132 kB)\n",
            "\u001b[K     |████████████████████████████████| 132 kB 52.5 MB/s \n",
            "\u001b[?25hRequirement already satisfied: typing-extensions in /usr/local/lib/python3.7/dist-packages (from torch>=0.4.1->pytorch_pretrained_bert) (4.1.1)\n",
            "Collecting s3transfer<0.7.0,>=0.6.0\n",
            "  Downloading s3transfer-0.6.0-py3-none-any.whl (79 kB)\n",
            "\u001b[K     |████████████████████████████████| 79 kB 10.2 MB/s \n",
            "\u001b[?25hCollecting jmespath<2.0.0,>=0.7.1\n",
            "  Downloading jmespath-1.0.1-py3-none-any.whl (20 kB)\n",
            "Collecting botocore<1.30.0,>=1.29.3\n",
            "  Downloading botocore-1.29.3-py3-none-any.whl (9.8 MB)\n",
            "\u001b[K     |████████████████████████████████| 9.8 MB 54.2 MB/s \n",
            "\u001b[?25hRequirement already satisfied: python-dateutil<3.0.0,>=2.1 in /usr/local/lib/python3.7/dist-packages (from botocore<1.30.0,>=1.29.3->boto3->pytorch_pretrained_bert) (2.8.2)\n",
            "Collecting urllib3<1.27,>=1.25.4\n",
            "  Downloading urllib3-1.26.12-py2.py3-none-any.whl (140 kB)\n",
            "\u001b[K     |████████████████████████████████| 140 kB 66.2 MB/s \n",
            "\u001b[?25hRequirement already satisfied: six>=1.5 in /usr/local/lib/python3.7/dist-packages (from python-dateutil<3.0.0,>=2.1->botocore<1.30.0,>=1.29.3->boto3->pytorch_pretrained_bert) (1.15.0)\n",
            "Requirement already satisfied: chardet<4,>=3.0.2 in /usr/local/lib/python3.7/dist-packages (from requests->pytorch_pretrained_bert) (3.0.4)\n",
            "Requirement already satisfied: idna<3,>=2.5 in /usr/local/lib/python3.7/dist-packages (from requests->pytorch_pretrained_bert) (2.10)\n",
            "Requirement already satisfied: certifi>=2017.4.17 in /usr/local/lib/python3.7/dist-packages (from requests->pytorch_pretrained_bert) (2022.9.24)\n",
            "  Downloading urllib3-1.25.11-py2.py3-none-any.whl (127 kB)\n",
            "\u001b[K     |████████████████████████████████| 127 kB 66.8 MB/s \n",
            "\u001b[?25hInstalling collected packages: urllib3, jmespath, botocore, s3transfer, boto3, pytorch-pretrained-bert\n",
            "  Attempting uninstall: urllib3\n",
            "    Found existing installation: urllib3 1.24.3\n",
            "    Uninstalling urllib3-1.24.3:\n",
            "      Successfully uninstalled urllib3-1.24.3\n",
            "Successfully installed boto3-1.26.3 botocore-1.29.3 jmespath-1.0.1 pytorch-pretrained-bert-0.6.2 s3transfer-0.6.0 urllib3-1.25.11\n",
            "Looking in indexes: https://pypi.org/simple, https://us-python.pkg.dev/colab-wheels/public/simple/\n",
            "Collecting git+https://github.com/huggingface/transformers\n",
            "  Cloning https://github.com/huggingface/transformers to /tmp/pip-req-build-zsu5k6o_\n",
            "  Running command git clone -q https://github.com/huggingface/transformers /tmp/pip-req-build-zsu5k6o_\n",
            "  Installing build dependencies ... \u001b[?25l\u001b[?25hdone\n",
            "  Getting requirements to build wheel ... \u001b[?25l\u001b[?25hdone\n",
            "    Preparing wheel metadata ... \u001b[?25l\u001b[?25hdone\n",
            "Requirement already satisfied: importlib-metadata in /usr/local/lib/python3.7/dist-packages (from transformers==4.25.0.dev0) (4.13.0)\n",
            "Requirement already satisfied: numpy>=1.17 in /usr/local/lib/python3.7/dist-packages (from transformers==4.25.0.dev0) (1.21.6)\n",
            "Requirement already satisfied: tqdm>=4.27 in /usr/local/lib/python3.7/dist-packages (from transformers==4.25.0.dev0) (4.64.1)\n",
            "Requirement already satisfied: packaging>=20.0 in /usr/local/lib/python3.7/dist-packages (from transformers==4.25.0.dev0) (21.3)\n",
            "Requirement already satisfied: regex!=2019.12.17 in /usr/local/lib/python3.7/dist-packages (from transformers==4.25.0.dev0) (2022.6.2)\n",
            "Requirement already satisfied: requests in /usr/local/lib/python3.7/dist-packages (from transformers==4.25.0.dev0) (2.23.0)\n",
            "Requirement already satisfied: filelock in /usr/local/lib/python3.7/dist-packages (from transformers==4.25.0.dev0) (3.8.0)\n",
            "Collecting tokenizers!=0.11.3,<0.14,>=0.11.1\n",
            "  Downloading tokenizers-0.13.1-cp37-cp37m-manylinux_2_17_x86_64.manylinux2014_x86_64.whl (7.6 MB)\n",
            "\u001b[K     |████████████████████████████████| 7.6 MB 7.0 MB/s \n",
            "\u001b[?25hCollecting huggingface-hub<1.0,>=0.10.0\n",
            "  Downloading huggingface_hub-0.10.1-py3-none-any.whl (163 kB)\n",
            "\u001b[K     |████████████████████████████████| 163 kB 68.3 MB/s \n",
            "\u001b[?25hRequirement already satisfied: pyyaml>=5.1 in /usr/local/lib/python3.7/dist-packages (from transformers==4.25.0.dev0) (6.0)\n",
            "Requirement already satisfied: typing-extensions>=3.7.4.3 in /usr/local/lib/python3.7/dist-packages (from huggingface-hub<1.0,>=0.10.0->transformers==4.25.0.dev0) (4.1.1)\n",
            "Requirement already satisfied: pyparsing!=3.0.5,>=2.0.2 in /usr/local/lib/python3.7/dist-packages (from packaging>=20.0->transformers==4.25.0.dev0) (3.0.9)\n",
            "Requirement already satisfied: zipp>=0.5 in /usr/local/lib/python3.7/dist-packages (from importlib-metadata->transformers==4.25.0.dev0) (3.10.0)\n",
            "Requirement already satisfied: idna<3,>=2.5 in /usr/local/lib/python3.7/dist-packages (from requests->transformers==4.25.0.dev0) (2.10)\n",
            "Requirement already satisfied: chardet<4,>=3.0.2 in /usr/local/lib/python3.7/dist-packages (from requests->transformers==4.25.0.dev0) (3.0.4)\n",
            "Requirement already satisfied: certifi>=2017.4.17 in /usr/local/lib/python3.7/dist-packages (from requests->transformers==4.25.0.dev0) (2022.9.24)\n",
            "Requirement already satisfied: urllib3!=1.25.0,!=1.25.1,<1.26,>=1.21.1 in /usr/local/lib/python3.7/dist-packages (from requests->transformers==4.25.0.dev0) (1.25.11)\n",
            "Building wheels for collected packages: transformers\n",
            "  Building wheel for transformers (PEP 517) ... \u001b[?25l\u001b[?25hdone\n",
            "  Created wheel for transformers: filename=transformers-4.25.0.dev0-py3-none-any.whl size=5526118 sha256=bfbf5663397bc7040a66cf40e05f2aa2fb69be0fedf18571e183219caca4af19\n",
            "  Stored in directory: /tmp/pip-ephem-wheel-cache-gcy_a57s/wheels/35/2e/a7/d819e3310040329f0f47e57c9e3e7a7338aa5e74c49acfe522\n",
            "Successfully built transformers\n",
            "Installing collected packages: tokenizers, huggingface-hub, transformers\n",
            "Successfully installed huggingface-hub-0.10.1 tokenizers-0.13.1 transformers-4.25.0.dev0\n"
          ]
        }
      ]
    },
    {
      "cell_type": "code",
      "source": [
        "config = {\n",
        "    \"base_path\": \"drive/MyDrive/CS4248/MAMS-ATSA\",\n",
        "    \"mode\": \"term\",\n",
        "    \"glove_path\": \"drive/MyDrive/CS4248/glove.42B.300d.txt\",\n",
        "    \"sentiment_path\": \"drive/MyDrive/CS4248/sentiment_dict.json\",\n",
        "    \"max_vocab_size\": None,\n",
        "    \"min_vocab_freq\": 0,\n",
        "    \"lowercase\": True\n",
        "    }"
      ],
      "metadata": {
        "id": "iLtx0QCTZgdU"
      },
      "execution_count": 3,
      "outputs": []
    },
    {
      "cell_type": "code",
      "source": [
        "tokenizer = BertTokenizer.from_pretrained('bert-base-uncased')\n",
        "tokenizer.tokenize(\"[CLS] [SEP] I WANNA GO HOME, YEY,.\")"
      ],
      "metadata": {
        "colab": {
          "base_uri": "https://localhost:8080/"
        },
        "id": "oD27TAba6ZUI",
        "outputId": "f7c04fe0-5040-4980-8b1a-4aea12c11a68"
      },
      "execution_count": 4,
      "outputs": [
        {
          "output_type": "stream",
          "name": "stderr",
          "text": [
            "100%|██████████| 231508/231508 [00:00<00:00, 1267296.08B/s]\n"
          ]
        },
        {
          "output_type": "execute_result",
          "data": {
            "text/plain": [
              "['[CLS]', '[SEP]', 'i', 'wanna', 'go', 'home', ',', 'ye', '##y', ',', '.']"
            ]
          },
          "metadata": {},
          "execution_count": 4
        }
      ]
    },
    {
      "cell_type": "code",
      "source": [
        "polarity_to_ids = {\"neutral\": 2, \"negative\": 1, \"positive\": 0}"
      ],
      "metadata": {
        "id": "hYCrAHn5guNT"
      },
      "execution_count": 5,
      "outputs": []
    },
    {
      "cell_type": "code",
      "source": [
        "def get_data(file_name):\n",
        "    path = config[\"base_path\"] + \"/raw/\" + file_name\n",
        "    tree = parse(path)\n",
        "    sentences = tree.getroot()\n",
        "    output = {\"sentences\": [], \"terms\": [], \"polarities\": []}\n",
        "    for sentence in sentences:\n",
        "        text = sentence.find('text')\n",
        "        if text is None:\n",
        "            continue\n",
        "\n",
        "        text = text.text\n",
        "        text = text.lower()\n",
        "        aspectTerms = sentence.find('aspectTerms')\n",
        "        if aspectTerms is None:\n",
        "            continue\n",
        "            \n",
        "        for aspectTerm in aspectTerms:\n",
        "            term = aspectTerm.get('term')\n",
        "            term = term.lower()\n",
        "            polarity = aspectTerm.get('polarity')\n",
        "            start = aspectTerm.get('from')\n",
        "            end = aspectTerm.get('to')\n",
        "            if polarity != \"conflict\":\n",
        "                output[\"sentences\"].append(\"[CLS] \" + text + \" [SEP] \" + term + \" [SEP]\")\n",
        "                output[\"terms\"].append(term)\n",
        "                output[\"polarities\"].append(polarity_to_ids[polarity])\n",
        "    return output"
      ],
      "metadata": {
        "id": "QxRRkaPTU33U"
      },
      "execution_count": 6,
      "outputs": []
    },
    {
      "cell_type": "code",
      "source": [
        "train_output = get_data(\"train.xml\")\n",
        "test_output = get_data(\"test.xml\")\n",
        "valid_output = get_data(\"val.xml\")"
      ],
      "metadata": {
        "id": "OK4zXFf2cO5c"
      },
      "execution_count": 7,
      "outputs": []
    },
    {
      "cell_type": "code",
      "source": [
        "train_labels = np.array(train_output[\"polarities\"])\n",
        "test_labels = np.array(test_output[\"polarities\"])\n",
        "valid_labels = np.array(valid_output[\"polarities\"])\n",
        "\n",
        "# train_labels = (train_output[\"polarities\"])\n",
        "# test_labels = (test_output[\"polarities\"])\n",
        "# valid_labels = (valid_output[\"polarities\"])"
      ],
      "metadata": {
        "id": "XGZzYRwIiFhz"
      },
      "execution_count": 8,
      "outputs": []
    },
    {
      "cell_type": "code",
      "source": [
        "sentences_train = train_output[\"sentences\"]\n",
        "sentences_test = test_output[\"sentences\"]\n",
        "sentences_valid = valid_output[\"sentences\"]\n",
        "\n",
        "tokenizer = BertTokenizer.from_pretrained('bert-base-uncased')\n",
        "tokenized_texts_train = [tokenizer.tokenize(sent) for sent in sentences_train]\n",
        "tokenized_texts_test = [tokenizer.tokenize(sent) for sent in sentences_test]\n",
        "tokenized_texts_valid = [tokenizer.tokenize(sent) for sent in sentences_valid]"
      ],
      "metadata": {
        "id": "LZ6BvhuYck5l"
      },
      "execution_count": 9,
      "outputs": []
    },
    {
      "cell_type": "code",
      "source": [
        "max_token_length_train = max(map(lambda x: len(x), tokenized_texts_train))\n",
        "max_token_length_test = max(map(lambda x: len(x), tokenized_texts_test))\n",
        "max_token_length_valid = max(map(lambda x: len(x), tokenized_texts_valid))"
      ],
      "metadata": {
        "id": "jvaHSg7Nek36"
      },
      "execution_count": 10,
      "outputs": []
    },
    {
      "cell_type": "code",
      "source": [
        "print(\"Maximum number of tokens in each tweet from the training dataset is: \"+str(max_token_length_train))\n",
        "print(\"Maximum number of tokens in each tweet from the test dataset is: \"+str(max_token_length_test))\n",
        "print(\"Maximum number of tokens in each tweet from the validation dataset is: \"+str(max_token_length_valid))"
      ],
      "metadata": {
        "colab": {
          "base_uri": "https://localhost:8080/"
        },
        "id": "UbHyL_Zdfhmg",
        "outputId": "c30e9fb8-29ce-4cec-cd20-98a571a3353a"
      },
      "execution_count": 11,
      "outputs": [
        {
          "output_type": "stream",
          "name": "stdout",
          "text": [
            "Maximum number of tokens in each tweet from the training dataset is: 106\n",
            "Maximum number of tokens in each tweet from the test dataset is: 92\n",
            "Maximum number of tokens in each tweet from the validation dataset is: 81\n"
          ]
        }
      ]
    },
    {
      "cell_type": "code",
      "source": [
        "MAX_LEN = 110\n",
        "\n",
        "# Use the BERT tokenizer to convert the tokens to their index numbers in the BERT vocabulary\n",
        "input_ids_train = [tokenizer.convert_tokens_to_ids(x) for x in tokenized_texts_train]\n",
        "input_ids_train = np.array(pad_sequences(input_ids_train, maxlen=MAX_LEN, dtype=\"long\", truncating=\"post\", padding=\"post\"))\n",
        "\n",
        "input_ids_test = [tokenizer.convert_tokens_to_ids(x) for x in tokenized_texts_test]\n",
        "input_ids_test = np.array(pad_sequences(input_ids_test, maxlen=MAX_LEN, dtype=\"long\", truncating=\"post\", padding=\"post\"))\n",
        "\n",
        "input_ids_valid = [tokenizer.convert_tokens_to_ids(x) for x in tokenized_texts_valid]\n",
        "input_ids_valid = np.array(pad_sequences(input_ids_valid, maxlen=MAX_LEN, dtype=\"long\", truncating=\"post\", padding=\"post\"))"
      ],
      "metadata": {
        "id": "1iZ2YV79fi3o"
      },
      "execution_count": 12,
      "outputs": []
    },
    {
      "cell_type": "code",
      "source": [
        "sentences_train[:3]"
      ],
      "metadata": {
        "colab": {
          "base_uri": "https://localhost:8080/"
        },
        "id": "JJ2iBi53e0RE",
        "outputId": "9139bb80-13b1-467c-ddd4-33438e6a3153"
      },
      "execution_count": 13,
      "outputs": [
        {
          "output_type": "execute_result",
          "data": {
            "text/plain": [
              "['[CLS] the decor is not special at all but their food and amazing prices make up for it. [SEP] decor [SEP]',\n",
              " '[CLS] the decor is not special at all but their food and amazing prices make up for it. [SEP] food [SEP]',\n",
              " '[CLS] the decor is not special at all but their food and amazing prices make up for it. [SEP] prices [SEP]']"
            ]
          },
          "metadata": {},
          "execution_count": 13
        }
      ]
    },
    {
      "cell_type": "code",
      "source": [
        "# Add some regularization to the model to reduce overfitting\n",
        "configuration = BertConfig(hidden_dropout_prob = 0.15, num_labels = 3)\n",
        "\n",
        "# Load model from pretrained model/vocabulary\n",
        "model = TFBertForSequenceClassification.from_pretrained('bert-base-uncased', config=configuration)"
      ],
      "metadata": {
        "colab": {
          "base_uri": "https://localhost:8080/",
          "height": 118,
          "referenced_widgets": [
            "a892414d53af4185840f5081ba920582",
            "749748932d7f42fbaf2907476be580d7",
            "26a1eaeeb75440559bf27f230f7552fb",
            "ae2a7263b2f043c9bcdff1d5771afe77",
            "71aa0f7e9b1b4fd7b829485a3cc9024b",
            "36378e1d02d5420888ed8b4526005ff8",
            "4fa309e0b4654b91958e036a0d66f343",
            "7a68ec59edc647c4848a9785e9f2262f",
            "2985f99066344d1aae658f79fd7c45ef",
            "45488ada8eac4dacafc03a10bb6c3bd2",
            "7c6e66d990d44ceaa04fbb9a57093dde"
          ]
        },
        "id": "4rlStBmxhDMh",
        "outputId": "2f0f9d0b-b51f-4fb7-c3b7-abed8c9174ba"
      },
      "execution_count": 14,
      "outputs": [
        {
          "output_type": "display_data",
          "data": {
            "text/plain": [
              "Downloading:   0%|          | 0.00/536M [00:00<?, ?B/s]"
            ],
            "application/vnd.jupyter.widget-view+json": {
              "version_major": 2,
              "version_minor": 0,
              "model_id": "a892414d53af4185840f5081ba920582"
            }
          },
          "metadata": {}
        },
        {
          "output_type": "stream",
          "name": "stderr",
          "text": [
            "All model checkpoint layers were used when initializing TFBertForSequenceClassification.\n",
            "\n",
            "Some layers of TFBertForSequenceClassification were not initialized from the model checkpoint at bert-base-uncased and are newly initialized: ['classifier']\n",
            "You should probably TRAIN this model on a down-stream task to be able to use it for predictions and inference.\n"
          ]
        }
      ]
    },
    {
      "cell_type": "code",
      "source": [
        "# Prepare training: \n",
        "# -. Compile tf.keras model with loss and learning rate schedule \n",
        "# -. Use AdamWeightDecay as the optimizer\n",
        "\n",
        "with tf.device('/device:GPU:0'):\n",
        "  optimizer = AdamWeightDecay(learning_rate=3e-05, epsilon=1e-08, clipnorm=1.0)\n",
        "  loss = tf.keras.losses.SparseCategoricalCrossentropy(from_logits=True)\n",
        "  metric = tf.keras.metrics.SparseCategoricalAccuracy('accuracy')\n",
        "  model.compile(optimizer=optimizer, loss=loss, metrics=[metric])"
      ],
      "metadata": {
        "id": "L0rszm9IhJQC"
      },
      "execution_count": 15,
      "outputs": []
    },
    {
      "cell_type": "code",
      "source": [
        "# Check the configuration of the model\n",
        "\n",
        "configuration = model.config\n",
        "configuration"
      ],
      "metadata": {
        "colab": {
          "base_uri": "https://localhost:8080/"
        },
        "id": "gLjx_NKXhSm8",
        "outputId": "665fb3e1-74a0-4cd5-e4a3-9af8455ab5a8"
      },
      "execution_count": 16,
      "outputs": [
        {
          "output_type": "execute_result",
          "data": {
            "text/plain": [
              "BertConfig {\n",
              "  \"_name_or_path\": \"bert-base-uncased\",\n",
              "  \"attention_probs_dropout_prob\": 0.1,\n",
              "  \"classifier_dropout\": null,\n",
              "  \"hidden_act\": \"gelu\",\n",
              "  \"hidden_dropout_prob\": 0.15,\n",
              "  \"hidden_size\": 768,\n",
              "  \"id2label\": {\n",
              "    \"0\": \"LABEL_0\",\n",
              "    \"1\": \"LABEL_1\",\n",
              "    \"2\": \"LABEL_2\"\n",
              "  },\n",
              "  \"initializer_range\": 0.02,\n",
              "  \"intermediate_size\": 3072,\n",
              "  \"label2id\": {\n",
              "    \"LABEL_0\": 0,\n",
              "    \"LABEL_1\": 1,\n",
              "    \"LABEL_2\": 2\n",
              "  },\n",
              "  \"layer_norm_eps\": 1e-12,\n",
              "  \"max_position_embeddings\": 512,\n",
              "  \"model_type\": \"bert\",\n",
              "  \"num_attention_heads\": 12,\n",
              "  \"num_hidden_layers\": 12,\n",
              "  \"pad_token_id\": 0,\n",
              "  \"position_embedding_type\": \"absolute\",\n",
              "  \"transformers_version\": \"4.25.0.dev0\",\n",
              "  \"type_vocab_size\": 2,\n",
              "  \"use_cache\": true,\n",
              "  \"vocab_size\": 30522\n",
              "}"
            ]
          },
          "metadata": {},
          "execution_count": 16
        }
      ]
    },
    {
      "cell_type": "code",
      "source": [
        "# Here's the summary of the model\n",
        "\n",
        "model.summary()"
      ],
      "metadata": {
        "colab": {
          "base_uri": "https://localhost:8080/"
        },
        "id": "VCplyWn_hs26",
        "outputId": "e295689b-407e-4070-cc47-05e6d12ea08e"
      },
      "execution_count": 17,
      "outputs": [
        {
          "output_type": "stream",
          "name": "stdout",
          "text": [
            "Model: \"tf_bert_for_sequence_classification\"\n",
            "_________________________________________________________________\n",
            " Layer (type)                Output Shape              Param #   \n",
            "=================================================================\n",
            " bert (TFBertMainLayer)      multiple                  109482240 \n",
            "                                                                 \n",
            " dropout_37 (Dropout)        multiple                  0         \n",
            "                                                                 \n",
            " classifier (Dense)          multiple                  2307      \n",
            "                                                                 \n",
            "=================================================================\n",
            "Total params: 109,484,547\n",
            "Trainable params: 109,484,547\n",
            "Non-trainable params: 0\n",
            "_________________________________________________________________\n"
          ]
        }
      ]
    },
    {
      "cell_type": "code",
      "source": [
        "callback_1 = tf.keras.callbacks.EarlyStopping(monitor='val_accuracy', patience=3)\n",
        "\n",
        "history = model.fit(x=input_ids_train, y=train_labels, validation_data = (input_ids_valid, valid_labels), callbacks=[callback_1], epochs = 5, batch_size=32)"
      ],
      "metadata": {
        "colab": {
          "base_uri": "https://localhost:8080/"
        },
        "id": "ZvvyH_iBhvdT",
        "outputId": "1adea22f-c019-4331-f93d-acdb8816588a"
      },
      "execution_count": 18,
      "outputs": [
        {
          "output_type": "stream",
          "name": "stdout",
          "text": [
            "Epoch 1/5\n",
            "350/350 [==============================] - 292s 762ms/step - loss: 0.7883 - accuracy: 0.6254 - val_loss: 0.5213 - val_accuracy: 0.8033\n",
            "Epoch 2/5\n",
            "350/350 [==============================] - 270s 772ms/step - loss: 0.4214 - accuracy: 0.8364 - val_loss: 0.5222 - val_accuracy: 0.7920\n",
            "Epoch 3/5\n",
            "350/350 [==============================] - 270s 773ms/step - loss: 0.2707 - accuracy: 0.9015 - val_loss: 0.5623 - val_accuracy: 0.8138\n",
            "Epoch 4/5\n",
            "350/350 [==============================] - 270s 771ms/step - loss: 0.1552 - accuracy: 0.9483 - val_loss: 0.6054 - val_accuracy: 0.8273\n",
            "Epoch 5/5\n",
            "350/350 [==============================] - 270s 771ms/step - loss: 0.1001 - accuracy: 0.9670 - val_loss: 0.7273 - val_accuracy: 0.8198\n"
          ]
        }
      ]
    },
    {
      "cell_type": "code",
      "source": [
        "results = model.evaluate(input_ids_test, test_labels, batch_size = 32)"
      ],
      "metadata": {
        "colab": {
          "base_uri": "https://localhost:8080/"
        },
        "id": "pBwxF0ySjZV3",
        "outputId": "e74e6bf1-acef-4743-c1a6-e2c7d4fa5ab4"
      },
      "execution_count": 19,
      "outputs": [
        {
          "output_type": "stream",
          "name": "stdout",
          "text": [
            "42/42 [==============================] - 10s 242ms/step - loss: 0.6507 - accuracy: 0.8338\n"
          ]
        }
      ]
    },
    {
      "cell_type": "code",
      "source": [
        "results"
      ],
      "metadata": {
        "colab": {
          "base_uri": "https://localhost:8080/"
        },
        "id": "YCloWVynjftn",
        "outputId": "bbe86fa7-c5ad-42d7-8979-68c3d30547f7"
      },
      "execution_count": 20,
      "outputs": [
        {
          "output_type": "execute_result",
          "data": {
            "text/plain": [
              "[0.6506624221801758, 0.833832323551178]"
            ]
          },
          "metadata": {},
          "execution_count": 20
        }
      ]
    },
    {
      "cell_type": "code",
      "source": [
        "prediction = model.predict(input_ids_test).logits"
      ],
      "metadata": {
        "colab": {
          "base_uri": "https://localhost:8080/"
        },
        "id": "tH9WWcCijrxP",
        "outputId": "7efe1f86-7cbb-4a41-c11c-67463398e5c8"
      },
      "execution_count": 21,
      "outputs": [
        {
          "output_type": "stream",
          "name": "stdout",
          "text": [
            "42/42 [==============================] - 13s 239ms/step\n"
          ]
        }
      ]
    },
    {
      "cell_type": "code",
      "source": [
        "final_prediction = []\n",
        "\n",
        "for i in range(len(prediction)):\n",
        "  final_prediction.append(np.argmax(prediction[i]))"
      ],
      "metadata": {
        "colab": {
          "base_uri": "https://localhost:8080/"
        },
        "id": "29AA4eRTjysV",
        "outputId": "dff3d6e8-a661-4ebb-c7f3-8f773964a0a8"
      },
      "execution_count": 23,
      "outputs": [
        {
          "output_type": "stream",
          "name": "stdout",
          "text": [
            "[0, 0, 0, 1, 1, 2, 0, 2, 1, 2, 2, 0, 0, 1, 0, 0, 1, 2, 0, 0, 0, 0, 0, 2, 2, 2, 2, 0, 0, 2, 1, 0, 2, 2, 0, 0, 2, 2, 1, 0, 2, 1, 2, 2, 1, 1, 2, 2, 0, 0, 2, 1, 1, 1, 0, 0, 0, 2, 0, 2, 0, 0, 2, 2, 2, 1, 2, 0, 0, 0, 1, 0, 2, 2, 2, 0, 2, 0, 0, 0, 2, 0, 2, 0, 0, 1, 2, 1, 0, 1, 2, 2, 1, 2, 1, 2, 1, 0, 2, 0, 0, 2, 2, 2, 1, 1, 2, 0, 1, 2, 0, 0, 2, 0, 2, 1, 2, 0, 2, 1, 1, 2, 0, 1, 2, 2, 2, 2, 1, 2, 0, 2, 0, 1, 2, 2, 1, 1, 0, 0, 1, 0, 0, 1, 2, 1, 0, 1, 0, 2, 0, 2, 1, 0, 2, 2, 0, 2, 0, 1, 2, 2, 2, 2, 2, 2, 1, 1, 1, 1, 0, 2, 1, 0, 1, 1, 2, 2, 2, 2, 2, 1, 1, 2, 2, 2, 0, 0, 0, 1, 2, 1, 1, 2, 1, 2, 0, 2, 1, 0, 1, 2, 1, 2, 1, 0, 0, 1, 0, 1, 0, 0, 2, 2, 0, 2, 0, 0, 1, 1, 0, 0, 1, 1, 2, 1, 2, 1, 2, 1, 2, 2, 1, 0, 1, 2, 0, 1, 2, 0, 2, 2, 1, 0, 0, 2, 2, 2, 0, 1, 2, 0, 2, 2, 0, 1, 2, 0, 0, 2, 1, 2, 0, 0, 2, 0, 1, 0, 0, 2, 0, 0, 2, 1, 0, 2, 2, 1, 1, 1, 2, 1, 2, 2, 2, 0, 2, 0, 0, 0, 2, 2, 0, 0, 1, 2, 0, 0, 1, 0, 2, 1, 2, 0, 0, 0, 2, 2, 2, 2, 1, 2, 0, 0, 2, 2, 0, 0, 0, 1, 2, 2, 1, 1, 2, 2, 1, 2, 1, 2, 2, 2, 1, 1, 0, 2, 1, 0, 0, 1, 2, 1, 1, 2, 1, 2, 2, 0, 0, 2, 2, 0, 0, 2, 0, 0, 0, 1, 0, 1, 2, 2, 2, 2, 2, 0, 2, 0, 2, 0, 2, 1, 1, 0, 1, 2, 1, 0, 1, 2, 2, 2, 0, 0, 2, 1, 0, 2, 1, 2, 2, 1, 2, 0, 1, 2, 0, 1, 0, 2, 2, 1, 1, 0, 1, 2, 1, 0, 2, 0, 0, 0, 1, 2, 2, 2, 1, 0, 2, 2, 0, 0, 2, 2, 2, 2, 1, 2, 2, 0, 2, 2, 1, 2, 1, 2, 2, 0, 0, 2, 1, 2, 2, 2, 2, 2, 0, 2, 1, 2, 2, 1, 2, 0, 0, 0, 2, 2, 1, 2, 0, 2, 2, 1, 2, 0, 0, 1, 2, 2, 2, 2, 1, 2, 0, 2, 0, 0, 1, 2, 2, 1, 1, 2, 1, 2, 2, 2, 0, 0, 0, 0, 2, 2, 2, 2, 1, 2, 2, 1, 2, 2, 0, 2, 2, 2, 1, 0, 0, 1, 2, 2, 2, 1, 2, 1, 1, 2, 2, 2, 0, 2, 1, 1, 2, 2, 2, 0, 0, 2, 2, 0, 0, 2, 2, 1, 2, 0, 2, 0, 2, 0, 0, 2, 1, 0, 2, 1, 2, 2, 2, 0, 0, 1, 2, 2, 1, 2, 1, 2, 2, 0, 2, 0, 1, 2, 2, 2, 0, 2, 0, 0, 2, 0, 0, 2, 0, 2, 2, 2, 2, 0, 0, 2, 0, 0, 2, 2, 1, 1, 0, 2, 2, 2, 0, 2, 2, 0, 0, 0, 2, 2, 0, 1, 0, 0, 2, 2, 2, 1, 0, 2, 0, 0, 0, 1, 2, 2, 1, 0, 2, 0, 0, 2, 1, 1, 0, 1, 2, 0, 0, 2, 2, 0, 2, 2, 0, 0, 2, 0, 2, 2, 0, 2, 2, 2, 1, 0, 0, 1, 2, 1, 2, 2, 2, 1, 2, 0, 1, 2, 1, 0, 2, 1, 2, 0, 0, 0, 0, 0, 1, 1, 1, 2, 0, 0, 0, 2, 1, 2, 2, 2, 0, 0, 2, 2, 1, 2, 0, 2, 0, 0, 0, 0, 2, 2, 2, 2, 2, 1, 1, 0, 0, 0, 0, 0, 0, 1, 1, 0, 1, 2, 0, 0, 0, 1, 2, 0, 2, 2, 2, 1, 2, 2, 2, 0, 0, 2, 2, 2, 0, 1, 2, 1, 0, 0, 2, 2, 0, 0, 0, 0, 2, 1, 2, 2, 2, 1, 2, 2, 0, 0, 2, 2, 0, 1, 2, 2, 0, 2, 2, 0, 2, 0, 2, 2, 0, 2, 1, 2, 0, 0, 1, 2, 2, 0, 1, 2, 2, 1, 2, 2, 2, 2, 1, 2, 2, 1, 0, 1, 0, 0, 1, 1, 2, 2, 2, 1, 2, 2, 2, 0, 0, 2, 0, 2, 0, 2, 1, 0, 2, 2, 2, 2, 1, 2, 2, 0, 0, 0, 0, 1, 2, 2, 2, 2, 2, 0, 0, 0, 0, 0, 0, 2, 2, 0, 1, 2, 1, 0, 2, 0, 2, 1, 1, 1, 2, 2, 1, 0, 2, 2, 1, 0, 2, 2, 0, 2, 0, 2, 2, 1, 2, 0, 2, 2, 0, 0, 1, 2, 0, 1, 2, 1, 0, 2, 0, 2, 1, 1, 2, 1, 2, 2, 2, 1, 1, 2, 2, 0, 2, 0, 1, 2, 2, 2, 2, 0, 2, 1, 2, 2, 0, 0, 2, 2, 0, 2, 2, 2, 2, 0, 0, 1, 2, 0, 1, 2, 2, 1, 2, 0, 1, 2, 0, 1, 0, 1, 1, 0, 0, 0, 2, 2, 0, 0, 0, 2, 2, 2, 0, 1, 0, 2, 0, 0, 2, 1, 2, 2, 2, 1, 1, 2, 0, 2, 1, 0, 0, 1, 2, 0, 2, 1, 0, 0, 2, 2, 2, 0, 1, 2, 1, 2, 2, 1, 2, 2, 2, 0, 0, 1, 2, 1, 2, 2, 0, 1, 2, 1, 2, 2, 1, 2, 0, 2, 2, 2, 0, 1, 2, 2, 2, 1, 1, 2, 1, 2, 2, 2, 0, 2, 2, 1, 2, 0, 1, 2, 2, 1, 2, 1, 2, 0, 1, 0, 0, 0, 1, 0, 0, 2, 1, 2, 0, 0, 1, 1, 2, 0, 0, 1, 2, 2, 0, 1, 0, 2, 2, 1, 1, 2, 1, 2, 1, 1, 1, 1, 0, 0, 2, 2, 0, 2, 0, 0, 2, 0, 1, 2, 2, 2, 1, 1, 0, 0, 1, 1, 2, 1, 1, 0, 0, 2, 2, 2, 1, 0, 0, 1, 1, 2, 0, 1, 2, 0, 2, 0, 2, 2, 0, 0, 2, 2, 2, 0, 2, 0, 2, 1, 1, 0, 1, 2, 1, 2, 0, 1, 2, 0, 2, 1, 2, 2, 0, 2, 1, 1, 2, 1, 2, 0, 0, 2, 0, 0, 2, 1, 2, 0, 1, 1, 2, 1, 2, 2, 0, 0, 2, 0, 0, 0, 0, 2, 1, 0, 2, 2, 2, 2, 2, 0, 1, 2, 0, 1, 2, 1, 1, 2, 2, 0, 2, 0, 1, 1, 2, 2, 0, 2, 2, 2, 0, 2, 1, 2, 2, 2, 0, 2, 2, 2, 0, 0, 1, 2, 0, 1, 0, 2, 1, 2, 2, 0, 0, 2, 1, 1, 2, 0, 0, 0, 2, 2, 0, 0, 2, 2, 1, 0, 2, 1, 2, 1, 0, 0, 1, 2, 0, 2, 2, 0, 0, 2, 2, 2, 2, 2, 0, 0, 0, 2, 1, 2, 1, 2, 2, 2, 1, 1, 2, 2, 2, 0, 2, 2, 2, 2, 2, 0, 0, 2, 2, 2, 1, 0, 2, 2, 0, 2, 1, 2, 1, 2, 2, 0, 0, 2, 0, 0, 0, 2, 0, 0, 2, 0, 0, 2, 1, 2, 2, 1, 2, 2, 2, 0, 1, 0, 1, 2, 2, 1, 2, 2, 1, 0, 0, 1, 1, 2, 2, 1, 2, 0, 1, 1, 2, 2, 1, 2, 2, 1, 1, 2, 1, 2, 2, 0, 2, 2, 0, 0, 2, 2, 1, 0]\n"
          ]
        }
      ]
    },
    {
      "cell_type": "code",
      "source": [
        "from sklearn.metrics import f1_score, precision_score, recall_score\n",
        "\n",
        "print(f1_score(test_labels, final_prediction, average = \"macro\"))\n",
        "print(f1_score(test_labels, final_prediction, average = \"micro\"))\n",
        "print(f1_score(test_labels, final_prediction, average = \"weighted\"))\n",
        "print()\n",
        "\n",
        "print(precision_score(test_labels, final_prediction, average = \"macro\"))\n",
        "print(precision_score(test_labels, final_prediction, average = \"micro\"))\n",
        "print(precision_score(test_labels, final_prediction, average = \"weighted\"))\n",
        "print()\n",
        "\n",
        "print(recall_score(test_labels, final_prediction, average = \"macro\"))\n",
        "print(recall_score(test_labels, final_prediction, average = \"micro\"))\n",
        "print(recall_score(test_labels, final_prediction, average = \"weighted\"))"
      ],
      "metadata": {
        "colab": {
          "base_uri": "https://localhost:8080/"
        },
        "id": "HlQSUH4GeTly",
        "outputId": "f4cc947f-7cfe-4276-fdad-aa7d94e27d6c"
      },
      "execution_count": 34,
      "outputs": [
        {
          "output_type": "stream",
          "name": "stdout",
          "text": [
            "0.8276854884158039\n",
            "0.8338323353293413\n",
            "0.8337611073391206\n",
            "\n",
            "0.8287668787093946\n",
            "0.8338323353293413\n",
            "0.8343082151506862\n",
            "\n",
            "0.827344093478816\n",
            "0.8338323353293413\n",
            "0.8338323353293413\n"
          ]
        }
      ]
    },
    {
      "cell_type": "code",
      "source": [
        "losses = history.history['loss']\n",
        "accs = history.history['accuracy']\n",
        "val_losses = history.history['val_loss']\n",
        "val_accs = history.history['val_accuracy']\n",
        "epochs = len(losses)\n",
        "\n",
        "plt.figure(figsize=(12, 4))\n",
        "for i, metrics in enumerate(zip([losses, accs], [val_losses, val_accs], ['Loss', 'Accuracy'])):\n",
        "  plt.subplot(1, 2, i + 1)\n",
        "  plt.plot(range(epochs), metrics[0], label='Training {}'.format(metrics[2]))\n",
        "  plt.plot(range(epochs), metrics[1], label='Validation {}'.format(metrics[2]))\n",
        "  plt.legend()\n",
        "plt.show()\n",
        "plt.savefig('bert_accuracy.png')"
      ],
      "metadata": {
        "id": "Jh1ZAXtYh3fc",
        "colab": {
          "base_uri": "https://localhost:8080/",
          "height": 282
        },
        "outputId": "31445cec-0f58-42ac-b9aa-c523d22a313b"
      },
      "execution_count": 25,
      "outputs": [
        {
          "output_type": "display_data",
          "data": {
            "text/plain": [
              "<Figure size 864x288 with 2 Axes>"
            ],
            "image/png": "[encoded data removed]"
          },
          "metadata": {
            "needs_background": "light"
          }
        },
        {
          "output_type": "display_data",
          "data": {
            "text/plain": [
              "<Figure size 432x288 with 0 Axes>"
            ]
          },
          "metadata": {}
        }
      ]
    },
    {
      "cell_type": "code",
      "source": [
        "result = confusion_matrix(test_labels, final_prediction)\n",
        "cf_matrix = pd.DataFrame(result, \n",
        "                         columns = [\"Predicted Negative\", \"Predicted Neutral\", \"Predicted Positive\"], \n",
        "                         index = [\"Actual Negative\", \"Actual Neutral\", \"Actual Positive\"])\n",
        "\n",
        "plt.figure(figsize = (10, 7))\n",
        "sns.heatmap(cf_matrix, annot = True, cmap = \"Blues\", fmt = \".3g\")\n",
        "plt.show()"
      ],
      "metadata": {
        "colab": {
          "base_uri": "https://localhost:8080/",
          "height": 428
        },
        "id": "xVv9CAUeJWiX",
        "outputId": "25d77b6f-a660-44f4-afec-34a5d89efad5"
      },
      "execution_count": 33,
      "outputs": [
        {
          "output_type": "display_data",
          "data": {
            "text/plain": [
              "<Figure size 720x504 with 2 Axes>"
            ],
            "image/png": "[encoded data removed]"
          },
          "metadata": {
            "needs_background": "light"
          }
        }
      ]
    },
    {
      "cell_type": "code",
      "source": [
        "print()"
      ],
      "metadata": {
        "id": "jz9FIgR6KDqk"
      },
      "execution_count": null,
      "outputs": []
    }
  ],
  "metadata": {
    "accelerator": "GPU",
    "colab": {
      "collapsed_sections": [],
      "provenance": []
    },
    "kernelspec": {
      "display_name": "Python 3.8.13 ('CS4248-project')",
      "language": "python",
      "name": "python3"
    },
    "language_info": {
      "codemirror_mode": {
        "name": "ipython",
        "version": 3
      },
      "file_extension": ".py",
      "mimetype": "text/x-python",
      "name": "python",
      "nbconvert_exporter": "python",
      "pygments_lexer": "ipython3",
      "version": "3.8.13"
    },
    "vscode": {
      "interpreter": {
        "hash": "acc163ef47be86fb239cdb7a5b440891b3a074f9418fa7049e8ce9b17a74f46c"
      }
    },
    "widgets": {
      "application/vnd.jupyter.widget-state+json": {
        "a892414d53af4185840f5081ba920582": {
          "model_module": "@jupyter-widgets/controls",
          "model_name": "HBoxModel",
          "model_module_version": "1.5.0",
          "state": {
            "_dom_classes": [],
            "_model_module": "@jupyter-widgets/controls",
            "_model_module_version": "1.5.0",
            "_model_name": "HBoxModel",
            "_view_count": null,
            "_view_module": "@jupyter-widgets/controls",
            "_view_module_version": "1.5.0",
            "_view_name": "HBoxView",
            "box_style": "",
            "children": [
              "IPY_MODEL_749748932d7f42fbaf2907476be580d7",
              "IPY_MODEL_26a1eaeeb75440559bf27f230f7552fb",
              "IPY_MODEL_ae2a7263b2f043c9bcdff1d5771afe77"
            ],
            "layout": "IPY_MODEL_71aa0f7e9b1b4fd7b829485a3cc9024b"
          }
        },
        "749748932d7f42fbaf2907476be580d7": {
          "model_module": "@jupyter-widgets/controls",
          "model_name": "HTMLModel",
          "model_module_version": "1.5.0",
          "state": {
            "_dom_classes": [],
            "_model_module": "@jupyter-widgets/controls",
            "_model_module_version": "1.5.0",
            "_model_name": "HTMLModel",
            "_view_count": null,
            "_view_module": "@jupyter-widgets/controls",
            "_view_module_version": "1.5.0",
            "_view_name": "HTMLView",
            "description": "",
            "description_tooltip": null,
            "layout": "IPY_MODEL_36378e1d02d5420888ed8b4526005ff8",
            "placeholder": "​",
            "style": "IPY_MODEL_4fa309e0b4654b91958e036a0d66f343",
            "value": "Downloading: 100%"
          }
        },
        "26a1eaeeb75440559bf27f230f7552fb": {
          "model_module": "@jupyter-widgets/controls",
          "model_name": "FloatProgressModel",
          "model_module_version": "1.5.0",
          "state": {
            "_dom_classes": [],
            "_model_module": "@jupyter-widgets/controls",
            "_model_module_version": "1.5.0",
            "_model_name": "FloatProgressModel",
            "_view_count": null,
            "_view_module": "@jupyter-widgets/controls",
            "_view_module_version": "1.5.0",
            "_view_name": "ProgressView",
            "bar_style": "success",
            "description": "",
            "description_tooltip": null,
            "layout": "IPY_MODEL_7a68ec59edc647c4848a9785e9f2262f",
            "max": 536063208,
            "min": 0,
            "orientation": "horizontal",
            "style": "IPY_MODEL_2985f99066344d1aae658f79fd7c45ef",
            "value": 536063208
          }
        },
        "ae2a7263b2f043c9bcdff1d5771afe77": {
          "model_module": "@jupyter-widgets/controls",
          "model_name": "HTMLModel",
          "model_module_version": "1.5.0",
          "state": {
            "_dom_classes": [],
            "_model_module": "@jupyter-widgets/controls",
            "_model_module_version": "1.5.0",
            "_model_name": "HTMLModel",
            "_view_count": null,
            "_view_module": "@jupyter-widgets/controls",
            "_view_module_version": "1.5.0",
            "_view_name": "HTMLView",
            "description": "",
            "description_tooltip": null,
            "layout": "IPY_MODEL_45488ada8eac4dacafc03a10bb6c3bd2",
            "placeholder": "​",
            "style": "IPY_MODEL_7c6e66d990d44ceaa04fbb9a57093dde",
            "value": " 536M/536M [00:19&lt;00:00, 55.6MB/s]"
          }
        },
        "71aa0f7e9b1b4fd7b829485a3cc9024b": {
          "model_module": "@jupyter-widgets/base",
          "model_name": "LayoutModel",
          "model_module_version": "1.2.0",
          "state": {
            "_model_module": "@jupyter-widgets/base",
            "_model_module_version": "1.2.0",
            "_model_name": "LayoutModel",
            "_view_count": null,
            "_view_module": "@jupyter-widgets/base",
            "_view_module_version": "1.2.0",
            "_view_name": "LayoutView",
            "align_content": null,
            "align_items": null,
            "align_self": null,
            "border": null,
            "bottom": null,
            "display": null,
            "flex": null,
            "flex_flow": null,
            "grid_area": null,
            "grid_auto_columns": null,
            "grid_auto_flow": null,
            "grid_auto_rows": null,
            "grid_column": null,
            "grid_gap": null,
            "grid_row": null,
            "grid_template_areas": null,
            "grid_template_columns": null,
            "grid_template_rows": null,
            "height": null,
            "justify_content": null,
            "justify_items": null,
            "left": null,
            "margin": null,
            "max_height": null,
            "max_width": null,
            "min_height": null,
            "min_width": null,
            "object_fit": null,
            "object_position": null,
            "order": null,
            "overflow": null,
            "overflow_x": null,
            "overflow_y": null,
            "padding": null,
            "right": null,
            "top": null,
            "visibility": null,
            "width": null
          }
        },
        "36378e1d02d5420888ed8b4526005ff8": {
          "model_module": "@jupyter-widgets/base",
          "model_name": "LayoutModel",
          "model_module_version": "1.2.0",
          "state": {
            "_model_module": "@jupyter-widgets/base",
            "_model_module_version": "1.2.0",
            "_model_name": "LayoutModel",
            "_view_count": null,
            "_view_module": "@jupyter-widgets/base",
            "_view_module_version": "1.2.0",
            "_view_name": "LayoutView",
            "align_content": null,
            "align_items": null,
            "align_self": null,
            "border": null,
            "bottom": null,
            "display": null,
            "flex": null,
            "flex_flow": null,
            "grid_area": null,
            "grid_auto_columns": null,
            "grid_auto_flow": null,
            "grid_auto_rows": null,
            "grid_column": null,
            "grid_gap": null,
            "grid_row": null,
            "grid_template_areas": null,
            "grid_template_columns": null,
            "grid_template_rows": null,
            "height": null,
            "justify_content": null,
            "justify_items": null,
            "left": null,
            "margin": null,
            "max_height": null,
            "max_width": null,
            "min_height": null,
            "min_width": null,
            "object_fit": null,
            "object_position": null,
            "order": null,
            "overflow": null,
            "overflow_x": null,
            "overflow_y": null,
            "padding": null,
            "right": null,
            "top": null,
            "visibility": null,
            "width": null
          }
        },
        "4fa309e0b4654b91958e036a0d66f343": {
          "model_module": "@jupyter-widgets/controls",
          "model_name": "DescriptionStyleModel",
          "model_module_version": "1.5.0",
          "state": {
            "_model_module": "@jupyter-widgets/controls",
            "_model_module_version": "1.5.0",
            "_model_name": "DescriptionStyleModel",
            "_view_count": null,
            "_view_module": "@jupyter-widgets/base",
            "_view_module_version": "1.2.0",
            "_view_name": "StyleView",
            "description_width": ""
          }
        },
        "7a68ec59edc647c4848a9785e9f2262f": {
          "model_module": "@jupyter-widgets/base",
          "model_name": "LayoutModel",
          "model_module_version": "1.2.0",
          "state": {
            "_model_module": "@jupyter-widgets/base",
            "_model_module_version": "1.2.0",
            "_model_name": "LayoutModel",
            "_view_count": null,
            "_view_module": "@jupyter-widgets/base",
            "_view_module_version": "1.2.0",
            "_view_name": "LayoutView",
            "align_content": null,
            "align_items": null,
            "align_self": null,
            "border": null,
            "bottom": null,
            "display": null,
            "flex": null,
            "flex_flow": null,
            "grid_area": null,
            "grid_auto_columns": null,
            "grid_auto_flow": null,
            "grid_auto_rows": null,
            "grid_column": null,
            "grid_gap": null,
            "grid_row": null,
            "grid_template_areas": null,
            "grid_template_columns": null,
            "grid_template_rows": null,
            "height": null,
            "justify_content": null,
            "justify_items": null,
            "left": null,
            "margin": null,
            "max_height": null,
            "max_width": null,
            "min_height": null,
            "min_width": null,
            "object_fit": null,
            "object_position": null,
            "order": null,
            "overflow": null,
            "overflow_x": null,
            "overflow_y": null,
            "padding": null,
            "right": null,
            "top": null,
            "visibility": null,
            "width": null
          }
        },
        "2985f99066344d1aae658f79fd7c45ef": {
          "model_module": "@jupyter-widgets/controls",
          "model_name": "ProgressStyleModel",
          "model_module_version": "1.5.0",
          "state": {
            "_model_module": "@jupyter-widgets/controls",
            "_model_module_version": "1.5.0",
            "_model_name": "ProgressStyleModel",
            "_view_count": null,
            "_view_module": "@jupyter-widgets/base",
            "_view_module_version": "1.2.0",
            "_view_name": "StyleView",
            "bar_color": null,
            "description_width": ""
          }
        },
        "45488ada8eac4dacafc03a10bb6c3bd2": {
          "model_module": "@jupyter-widgets/base",
          "model_name": "LayoutModel",
          "model_module_version": "1.2.0",
          "state": {
            "_model_module": "@jupyter-widgets/base",
            "_model_module_version": "1.2.0",
            "_model_name": "LayoutModel",
            "_view_count": null,
            "_view_module": "@jupyter-widgets/base",
            "_view_module_version": "1.2.0",
            "_view_name": "LayoutView",
            "align_content": null,
            "align_items": null,
            "align_self": null,
            "border": null,
            "bottom": null,
            "display": null,
            "flex": null,
            "flex_flow": null,
            "grid_area": null,
            "grid_auto_columns": null,
            "grid_auto_flow": null,
            "grid_auto_rows": null,
            "grid_column": null,
            "grid_gap": null,
            "grid_row": null,
            "grid_template_areas": null,
            "grid_template_columns": null,
            "grid_template_rows": null,
            "height": null,
            "justify_content": null,
            "justify_items": null,
            "left": null,
            "margin": null,
            "max_height": null,
            "max_width": null,
            "min_height": null,
            "min_width": null,
            "object_fit": null,
            "object_position": null,
            "order": null,
            "overflow": null,
            "overflow_x": null,
            "overflow_y": null,
            "padding": null,
            "right": null,
            "top": null,
            "visibility": null,
            "width": null
          }
        },
        "7c6e66d990d44ceaa04fbb9a57093dde": {
          "model_module": "@jupyter-widgets/controls",
          "model_name": "DescriptionStyleModel",
          "model_module_version": "1.5.0",
          "state": {
            "_model_module": "@jupyter-widgets/controls",
            "_model_module_version": "1.5.0",
            "_model_name": "DescriptionStyleModel",
            "_view_count": null,
            "_view_module": "@jupyter-widgets/base",
            "_view_module_version": "1.2.0",
            "_view_name": "StyleView",
            "description_width": ""
          }
        }
      }
    }
  },
  "nbformat": 4,
  "nbformat_minor": 0
}